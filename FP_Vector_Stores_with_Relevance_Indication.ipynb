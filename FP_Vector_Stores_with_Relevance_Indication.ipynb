{
  "nbformat": 4,
  "nbformat_minor": 0,
  "metadata": {
    "colab": {
      "provenance": []
    },
    "kernelspec": {
      "name": "python3",
      "display_name": "Python 3"
    },
    "language_info": {
      "name": "python"
    },
    "widgets": {
      "application/vnd.jupyter.widget-state+json": {
        "2d482b66e55f41f3b7c3046bdbc2d12a": {
          "model_module": "@jupyter-widgets/controls",
          "model_name": "HBoxModel",
          "model_module_version": "1.5.0",
          "state": {
            "_dom_classes": [],
            "_model_module": "@jupyter-widgets/controls",
            "_model_module_version": "1.5.0",
            "_model_name": "HBoxModel",
            "_view_count": null,
            "_view_module": "@jupyter-widgets/controls",
            "_view_module_version": "1.5.0",
            "_view_name": "HBoxView",
            "box_style": "",
            "children": [
              "IPY_MODEL_8ec30c6ba15342e5a91a50e866bb4a79",
              "IPY_MODEL_282d0a6b041b4c53864937c7b8a20f5f",
              "IPY_MODEL_d504598c18474ce5ab49cd5703f11d40"
            ],
            "layout": "IPY_MODEL_9fdc3a4372494c2b80706bb44e76500a"
          }
        },
        "8ec30c6ba15342e5a91a50e866bb4a79": {
          "model_module": "@jupyter-widgets/controls",
          "model_name": "HTMLModel",
          "model_module_version": "1.5.0",
          "state": {
            "_dom_classes": [],
            "_model_module": "@jupyter-widgets/controls",
            "_model_module_version": "1.5.0",
            "_model_name": "HTMLModel",
            "_view_count": null,
            "_view_module": "@jupyter-widgets/controls",
            "_view_module_version": "1.5.0",
            "_view_name": "HTMLView",
            "description": "",
            "description_tooltip": null,
            "layout": "IPY_MODEL_36c8b921a56c402a942de6bce84bd594",
            "placeholder": "​",
            "style": "IPY_MODEL_a081432aa17e440087e1a035000d026e",
            "value": "modules.json: 100%"
          }
        },
        "282d0a6b041b4c53864937c7b8a20f5f": {
          "model_module": "@jupyter-widgets/controls",
          "model_name": "FloatProgressModel",
          "model_module_version": "1.5.0",
          "state": {
            "_dom_classes": [],
            "_model_module": "@jupyter-widgets/controls",
            "_model_module_version": "1.5.0",
            "_model_name": "FloatProgressModel",
            "_view_count": null,
            "_view_module": "@jupyter-widgets/controls",
            "_view_module_version": "1.5.0",
            "_view_name": "ProgressView",
            "bar_style": "success",
            "description": "",
            "description_tooltip": null,
            "layout": "IPY_MODEL_7ed9c49773814e549e221654c47f96f4",
            "max": 349,
            "min": 0,
            "orientation": "horizontal",
            "style": "IPY_MODEL_be9f303881624d06a8b909d85da4e075",
            "value": 349
          }
        },
        "d504598c18474ce5ab49cd5703f11d40": {
          "model_module": "@jupyter-widgets/controls",
          "model_name": "HTMLModel",
          "model_module_version": "1.5.0",
          "state": {
            "_dom_classes": [],
            "_model_module": "@jupyter-widgets/controls",
            "_model_module_version": "1.5.0",
            "_model_name": "HTMLModel",
            "_view_count": null,
            "_view_module": "@jupyter-widgets/controls",
            "_view_module_version": "1.5.0",
            "_view_name": "HTMLView",
            "description": "",
            "description_tooltip": null,
            "layout": "IPY_MODEL_89593736c8dd413a95ba60711ad3e931",
            "placeholder": "​",
            "style": "IPY_MODEL_14074d0138dd4b48902bbefb12d6ce0b",
            "value": " 349/349 [00:00&lt;00:00, 10.9kB/s]"
          }
        },
        "9fdc3a4372494c2b80706bb44e76500a": {
          "model_module": "@jupyter-widgets/base",
          "model_name": "LayoutModel",
          "model_module_version": "1.2.0",
          "state": {
            "_model_module": "@jupyter-widgets/base",
            "_model_module_version": "1.2.0",
            "_model_name": "LayoutModel",
            "_view_count": null,
            "_view_module": "@jupyter-widgets/base",
            "_view_module_version": "1.2.0",
            "_view_name": "LayoutView",
            "align_content": null,
            "align_items": null,
            "align_self": null,
            "border": null,
            "bottom": null,
            "display": null,
            "flex": null,
            "flex_flow": null,
            "grid_area": null,
            "grid_auto_columns": null,
            "grid_auto_flow": null,
            "grid_auto_rows": null,
            "grid_column": null,
            "grid_gap": null,
            "grid_row": null,
            "grid_template_areas": null,
            "grid_template_columns": null,
            "grid_template_rows": null,
            "height": null,
            "justify_content": null,
            "justify_items": null,
            "left": null,
            "margin": null,
            "max_height": null,
            "max_width": null,
            "min_height": null,
            "min_width": null,
            "object_fit": null,
            "object_position": null,
            "order": null,
            "overflow": null,
            "overflow_x": null,
            "overflow_y": null,
            "padding": null,
            "right": null,
            "top": null,
            "visibility": null,
            "width": null
          }
        },
        "36c8b921a56c402a942de6bce84bd594": {
          "model_module": "@jupyter-widgets/base",
          "model_name": "LayoutModel",
          "model_module_version": "1.2.0",
          "state": {
            "_model_module": "@jupyter-widgets/base",
            "_model_module_version": "1.2.0",
            "_model_name": "LayoutModel",
            "_view_count": null,
            "_view_module": "@jupyter-widgets/base",
            "_view_module_version": "1.2.0",
            "_view_name": "LayoutView",
            "align_content": null,
            "align_items": null,
            "align_self": null,
            "border": null,
            "bottom": null,
            "display": null,
            "flex": null,
            "flex_flow": null,
            "grid_area": null,
            "grid_auto_columns": null,
            "grid_auto_flow": null,
            "grid_auto_rows": null,
            "grid_column": null,
            "grid_gap": null,
            "grid_row": null,
            "grid_template_areas": null,
            "grid_template_columns": null,
            "grid_template_rows": null,
            "height": null,
            "justify_content": null,
            "justify_items": null,
            "left": null,
            "margin": null,
            "max_height": null,
            "max_width": null,
            "min_height": null,
            "min_width": null,
            "object_fit": null,
            "object_position": null,
            "order": null,
            "overflow": null,
            "overflow_x": null,
            "overflow_y": null,
            "padding": null,
            "right": null,
            "top": null,
            "visibility": null,
            "width": null
          }
        },
        "a081432aa17e440087e1a035000d026e": {
          "model_module": "@jupyter-widgets/controls",
          "model_name": "DescriptionStyleModel",
          "model_module_version": "1.5.0",
          "state": {
            "_model_module": "@jupyter-widgets/controls",
            "_model_module_version": "1.5.0",
            "_model_name": "DescriptionStyleModel",
            "_view_count": null,
            "_view_module": "@jupyter-widgets/base",
            "_view_module_version": "1.2.0",
            "_view_name": "StyleView",
            "description_width": ""
          }
        },
        "7ed9c49773814e549e221654c47f96f4": {
          "model_module": "@jupyter-widgets/base",
          "model_name": "LayoutModel",
          "model_module_version": "1.2.0",
          "state": {
            "_model_module": "@jupyter-widgets/base",
            "_model_module_version": "1.2.0",
            "_model_name": "LayoutModel",
            "_view_count": null,
            "_view_module": "@jupyter-widgets/base",
            "_view_module_version": "1.2.0",
            "_view_name": "LayoutView",
            "align_content": null,
            "align_items": null,
            "align_self": null,
            "border": null,
            "bottom": null,
            "display": null,
            "flex": null,
            "flex_flow": null,
            "grid_area": null,
            "grid_auto_columns": null,
            "grid_auto_flow": null,
            "grid_auto_rows": null,
            "grid_column": null,
            "grid_gap": null,
            "grid_row": null,
            "grid_template_areas": null,
            "grid_template_columns": null,
            "grid_template_rows": null,
            "height": null,
            "justify_content": null,
            "justify_items": null,
            "left": null,
            "margin": null,
            "max_height": null,
            "max_width": null,
            "min_height": null,
            "min_width": null,
            "object_fit": null,
            "object_position": null,
            "order": null,
            "overflow": null,
            "overflow_x": null,
            "overflow_y": null,
            "padding": null,
            "right": null,
            "top": null,
            "visibility": null,
            "width": null
          }
        },
        "be9f303881624d06a8b909d85da4e075": {
          "model_module": "@jupyter-widgets/controls",
          "model_name": "ProgressStyleModel",
          "model_module_version": "1.5.0",
          "state": {
            "_model_module": "@jupyter-widgets/controls",
            "_model_module_version": "1.5.0",
            "_model_name": "ProgressStyleModel",
            "_view_count": null,
            "_view_module": "@jupyter-widgets/base",
            "_view_module_version": "1.2.0",
            "_view_name": "StyleView",
            "bar_color": null,
            "description_width": ""
          }
        },
        "89593736c8dd413a95ba60711ad3e931": {
          "model_module": "@jupyter-widgets/base",
          "model_name": "LayoutModel",
          "model_module_version": "1.2.0",
          "state": {
            "_model_module": "@jupyter-widgets/base",
            "_model_module_version": "1.2.0",
            "_model_name": "LayoutModel",
            "_view_count": null,
            "_view_module": "@jupyter-widgets/base",
            "_view_module_version": "1.2.0",
            "_view_name": "LayoutView",
            "align_content": null,
            "align_items": null,
            "align_self": null,
            "border": null,
            "bottom": null,
            "display": null,
            "flex": null,
            "flex_flow": null,
            "grid_area": null,
            "grid_auto_columns": null,
            "grid_auto_flow": null,
            "grid_auto_rows": null,
            "grid_column": null,
            "grid_gap": null,
            "grid_row": null,
            "grid_template_areas": null,
            "grid_template_columns": null,
            "grid_template_rows": null,
            "height": null,
            "justify_content": null,
            "justify_items": null,
            "left": null,
            "margin": null,
            "max_height": null,
            "max_width": null,
            "min_height": null,
            "min_width": null,
            "object_fit": null,
            "object_position": null,
            "order": null,
            "overflow": null,
            "overflow_x": null,
            "overflow_y": null,
            "padding": null,
            "right": null,
            "top": null,
            "visibility": null,
            "width": null
          }
        },
        "14074d0138dd4b48902bbefb12d6ce0b": {
          "model_module": "@jupyter-widgets/controls",
          "model_name": "DescriptionStyleModel",
          "model_module_version": "1.5.0",
          "state": {
            "_model_module": "@jupyter-widgets/controls",
            "_model_module_version": "1.5.0",
            "_model_name": "DescriptionStyleModel",
            "_view_count": null,
            "_view_module": "@jupyter-widgets/base",
            "_view_module_version": "1.2.0",
            "_view_name": "StyleView",
            "description_width": ""
          }
        },
        "9f6338c06e434176986c537cad86543d": {
          "model_module": "@jupyter-widgets/controls",
          "model_name": "HBoxModel",
          "model_module_version": "1.5.0",
          "state": {
            "_dom_classes": [],
            "_model_module": "@jupyter-widgets/controls",
            "_model_module_version": "1.5.0",
            "_model_name": "HBoxModel",
            "_view_count": null,
            "_view_module": "@jupyter-widgets/controls",
            "_view_module_version": "1.5.0",
            "_view_name": "HBoxView",
            "box_style": "",
            "children": [
              "IPY_MODEL_c2537bc7d81e4d7d86f56c077b1fdb9b",
              "IPY_MODEL_52de81df869f491e83afa5628c065c90",
              "IPY_MODEL_58b3f527464048528d8c3d5ba947e50e"
            ],
            "layout": "IPY_MODEL_998425f95f0d4d8c8a9181754c9395b5"
          }
        },
        "c2537bc7d81e4d7d86f56c077b1fdb9b": {
          "model_module": "@jupyter-widgets/controls",
          "model_name": "HTMLModel",
          "model_module_version": "1.5.0",
          "state": {
            "_dom_classes": [],
            "_model_module": "@jupyter-widgets/controls",
            "_model_module_version": "1.5.0",
            "_model_name": "HTMLModel",
            "_view_count": null,
            "_view_module": "@jupyter-widgets/controls",
            "_view_module_version": "1.5.0",
            "_view_name": "HTMLView",
            "description": "",
            "description_tooltip": null,
            "layout": "IPY_MODEL_baf412ba2f7e4721bf6f43f387b584d8",
            "placeholder": "​",
            "style": "IPY_MODEL_849003ac106a4fe3aa24f77eab4a3abf",
            "value": "config_sentence_transformers.json: 100%"
          }
        },
        "52de81df869f491e83afa5628c065c90": {
          "model_module": "@jupyter-widgets/controls",
          "model_name": "FloatProgressModel",
          "model_module_version": "1.5.0",
          "state": {
            "_dom_classes": [],
            "_model_module": "@jupyter-widgets/controls",
            "_model_module_version": "1.5.0",
            "_model_name": "FloatProgressModel",
            "_view_count": null,
            "_view_module": "@jupyter-widgets/controls",
            "_view_module_version": "1.5.0",
            "_view_name": "ProgressView",
            "bar_style": "success",
            "description": "",
            "description_tooltip": null,
            "layout": "IPY_MODEL_be1b70f19b4c4ba7ba62ab3ebaa2a843",
            "max": 116,
            "min": 0,
            "orientation": "horizontal",
            "style": "IPY_MODEL_0afe87c4de5e489f8630d99f65d90342",
            "value": 116
          }
        },
        "58b3f527464048528d8c3d5ba947e50e": {
          "model_module": "@jupyter-widgets/controls",
          "model_name": "HTMLModel",
          "model_module_version": "1.5.0",
          "state": {
            "_dom_classes": [],
            "_model_module": "@jupyter-widgets/controls",
            "_model_module_version": "1.5.0",
            "_model_name": "HTMLModel",
            "_view_count": null,
            "_view_module": "@jupyter-widgets/controls",
            "_view_module_version": "1.5.0",
            "_view_name": "HTMLView",
            "description": "",
            "description_tooltip": null,
            "layout": "IPY_MODEL_d244df708945402c9c13241058fdd938",
            "placeholder": "​",
            "style": "IPY_MODEL_3810c13c3dc54b70949eebc6fb9659ff",
            "value": " 116/116 [00:00&lt;00:00, 3.31kB/s]"
          }
        },
        "998425f95f0d4d8c8a9181754c9395b5": {
          "model_module": "@jupyter-widgets/base",
          "model_name": "LayoutModel",
          "model_module_version": "1.2.0",
          "state": {
            "_model_module": "@jupyter-widgets/base",
            "_model_module_version": "1.2.0",
            "_model_name": "LayoutModel",
            "_view_count": null,
            "_view_module": "@jupyter-widgets/base",
            "_view_module_version": "1.2.0",
            "_view_name": "LayoutView",
            "align_content": null,
            "align_items": null,
            "align_self": null,
            "border": null,
            "bottom": null,
            "display": null,
            "flex": null,
            "flex_flow": null,
            "grid_area": null,
            "grid_auto_columns": null,
            "grid_auto_flow": null,
            "grid_auto_rows": null,
            "grid_column": null,
            "grid_gap": null,
            "grid_row": null,
            "grid_template_areas": null,
            "grid_template_columns": null,
            "grid_template_rows": null,
            "height": null,
            "justify_content": null,
            "justify_items": null,
            "left": null,
            "margin": null,
            "max_height": null,
            "max_width": null,
            "min_height": null,
            "min_width": null,
            "object_fit": null,
            "object_position": null,
            "order": null,
            "overflow": null,
            "overflow_x": null,
            "overflow_y": null,
            "padding": null,
            "right": null,
            "top": null,
            "visibility": null,
            "width": null
          }
        },
        "baf412ba2f7e4721bf6f43f387b584d8": {
          "model_module": "@jupyter-widgets/base",
          "model_name": "LayoutModel",
          "model_module_version": "1.2.0",
          "state": {
            "_model_module": "@jupyter-widgets/base",
            "_model_module_version": "1.2.0",
            "_model_name": "LayoutModel",
            "_view_count": null,
            "_view_module": "@jupyter-widgets/base",
            "_view_module_version": "1.2.0",
            "_view_name": "LayoutView",
            "align_content": null,
            "align_items": null,
            "align_self": null,
            "border": null,
            "bottom": null,
            "display": null,
            "flex": null,
            "flex_flow": null,
            "grid_area": null,
            "grid_auto_columns": null,
            "grid_auto_flow": null,
            "grid_auto_rows": null,
            "grid_column": null,
            "grid_gap": null,
            "grid_row": null,
            "grid_template_areas": null,
            "grid_template_columns": null,
            "grid_template_rows": null,
            "height": null,
            "justify_content": null,
            "justify_items": null,
            "left": null,
            "margin": null,
            "max_height": null,
            "max_width": null,
            "min_height": null,
            "min_width": null,
            "object_fit": null,
            "object_position": null,
            "order": null,
            "overflow": null,
            "overflow_x": null,
            "overflow_y": null,
            "padding": null,
            "right": null,
            "top": null,
            "visibility": null,
            "width": null
          }
        },
        "849003ac106a4fe3aa24f77eab4a3abf": {
          "model_module": "@jupyter-widgets/controls",
          "model_name": "DescriptionStyleModel",
          "model_module_version": "1.5.0",
          "state": {
            "_model_module": "@jupyter-widgets/controls",
            "_model_module_version": "1.5.0",
            "_model_name": "DescriptionStyleModel",
            "_view_count": null,
            "_view_module": "@jupyter-widgets/base",
            "_view_module_version": "1.2.0",
            "_view_name": "StyleView",
            "description_width": ""
          }
        },
        "be1b70f19b4c4ba7ba62ab3ebaa2a843": {
          "model_module": "@jupyter-widgets/base",
          "model_name": "LayoutModel",
          "model_module_version": "1.2.0",
          "state": {
            "_model_module": "@jupyter-widgets/base",
            "_model_module_version": "1.2.0",
            "_model_name": "LayoutModel",
            "_view_count": null,
            "_view_module": "@jupyter-widgets/base",
            "_view_module_version": "1.2.0",
            "_view_name": "LayoutView",
            "align_content": null,
            "align_items": null,
            "align_self": null,
            "border": null,
            "bottom": null,
            "display": null,
            "flex": null,
            "flex_flow": null,
            "grid_area": null,
            "grid_auto_columns": null,
            "grid_auto_flow": null,
            "grid_auto_rows": null,
            "grid_column": null,
            "grid_gap": null,
            "grid_row": null,
            "grid_template_areas": null,
            "grid_template_columns": null,
            "grid_template_rows": null,
            "height": null,
            "justify_content": null,
            "justify_items": null,
            "left": null,
            "margin": null,
            "max_height": null,
            "max_width": null,
            "min_height": null,
            "min_width": null,
            "object_fit": null,
            "object_position": null,
            "order": null,
            "overflow": null,
            "overflow_x": null,
            "overflow_y": null,
            "padding": null,
            "right": null,
            "top": null,
            "visibility": null,
            "width": null
          }
        },
        "0afe87c4de5e489f8630d99f65d90342": {
          "model_module": "@jupyter-widgets/controls",
          "model_name": "ProgressStyleModel",
          "model_module_version": "1.5.0",
          "state": {
            "_model_module": "@jupyter-widgets/controls",
            "_model_module_version": "1.5.0",
            "_model_name": "ProgressStyleModel",
            "_view_count": null,
            "_view_module": "@jupyter-widgets/base",
            "_view_module_version": "1.2.0",
            "_view_name": "StyleView",
            "bar_color": null,
            "description_width": ""
          }
        },
        "d244df708945402c9c13241058fdd938": {
          "model_module": "@jupyter-widgets/base",
          "model_name": "LayoutModel",
          "model_module_version": "1.2.0",
          "state": {
            "_model_module": "@jupyter-widgets/base",
            "_model_module_version": "1.2.0",
            "_model_name": "LayoutModel",
            "_view_count": null,
            "_view_module": "@jupyter-widgets/base",
            "_view_module_version": "1.2.0",
            "_view_name": "LayoutView",
            "align_content": null,
            "align_items": null,
            "align_self": null,
            "border": null,
            "bottom": null,
            "display": null,
            "flex": null,
            "flex_flow": null,
            "grid_area": null,
            "grid_auto_columns": null,
            "grid_auto_flow": null,
            "grid_auto_rows": null,
            "grid_column": null,
            "grid_gap": null,
            "grid_row": null,
            "grid_template_areas": null,
            "grid_template_columns": null,
            "grid_template_rows": null,
            "height": null,
            "justify_content": null,
            "justify_items": null,
            "left": null,
            "margin": null,
            "max_height": null,
            "max_width": null,
            "min_height": null,
            "min_width": null,
            "object_fit": null,
            "object_position": null,
            "order": null,
            "overflow": null,
            "overflow_x": null,
            "overflow_y": null,
            "padding": null,
            "right": null,
            "top": null,
            "visibility": null,
            "width": null
          }
        },
        "3810c13c3dc54b70949eebc6fb9659ff": {
          "model_module": "@jupyter-widgets/controls",
          "model_name": "DescriptionStyleModel",
          "model_module_version": "1.5.0",
          "state": {
            "_model_module": "@jupyter-widgets/controls",
            "_model_module_version": "1.5.0",
            "_model_name": "DescriptionStyleModel",
            "_view_count": null,
            "_view_module": "@jupyter-widgets/base",
            "_view_module_version": "1.2.0",
            "_view_name": "StyleView",
            "description_width": ""
          }
        },
        "77f6fc2a00f44b8ab22468b7af0f464f": {
          "model_module": "@jupyter-widgets/controls",
          "model_name": "HBoxModel",
          "model_module_version": "1.5.0",
          "state": {
            "_dom_classes": [],
            "_model_module": "@jupyter-widgets/controls",
            "_model_module_version": "1.5.0",
            "_model_name": "HBoxModel",
            "_view_count": null,
            "_view_module": "@jupyter-widgets/controls",
            "_view_module_version": "1.5.0",
            "_view_name": "HBoxView",
            "box_style": "",
            "children": [
              "IPY_MODEL_260e5e708764460b8ab334ec6db62376",
              "IPY_MODEL_25f797f462a540529461c9e20b4ecd0a",
              "IPY_MODEL_6c3f16307d934e599f5d9fd567a71121"
            ],
            "layout": "IPY_MODEL_40a2d2f6e68d4132ae486cd6e1458ae1"
          }
        },
        "260e5e708764460b8ab334ec6db62376": {
          "model_module": "@jupyter-widgets/controls",
          "model_name": "HTMLModel",
          "model_module_version": "1.5.0",
          "state": {
            "_dom_classes": [],
            "_model_module": "@jupyter-widgets/controls",
            "_model_module_version": "1.5.0",
            "_model_name": "HTMLModel",
            "_view_count": null,
            "_view_module": "@jupyter-widgets/controls",
            "_view_module_version": "1.5.0",
            "_view_name": "HTMLView",
            "description": "",
            "description_tooltip": null,
            "layout": "IPY_MODEL_cffbba0683994f588bfa704bc1cf8ec0",
            "placeholder": "​",
            "style": "IPY_MODEL_b537e46458cc4351a26bae3ad8ebacaa",
            "value": "README.md: 100%"
          }
        },
        "25f797f462a540529461c9e20b4ecd0a": {
          "model_module": "@jupyter-widgets/controls",
          "model_name": "FloatProgressModel",
          "model_module_version": "1.5.0",
          "state": {
            "_dom_classes": [],
            "_model_module": "@jupyter-widgets/controls",
            "_model_module_version": "1.5.0",
            "_model_name": "FloatProgressModel",
            "_view_count": null,
            "_view_module": "@jupyter-widgets/controls",
            "_view_module_version": "1.5.0",
            "_view_name": "ProgressView",
            "bar_style": "success",
            "description": "",
            "description_tooltip": null,
            "layout": "IPY_MODEL_44b378a3f452471e8ae909f55cd3b6f8",
            "max": 10659,
            "min": 0,
            "orientation": "horizontal",
            "style": "IPY_MODEL_87edf5f5b4d84d86ad536182688d1cd5",
            "value": 10659
          }
        },
        "6c3f16307d934e599f5d9fd567a71121": {
          "model_module": "@jupyter-widgets/controls",
          "model_name": "HTMLModel",
          "model_module_version": "1.5.0",
          "state": {
            "_dom_classes": [],
            "_model_module": "@jupyter-widgets/controls",
            "_model_module_version": "1.5.0",
            "_model_name": "HTMLModel",
            "_view_count": null,
            "_view_module": "@jupyter-widgets/controls",
            "_view_module_version": "1.5.0",
            "_view_name": "HTMLView",
            "description": "",
            "description_tooltip": null,
            "layout": "IPY_MODEL_8e8195a877274fa1b62ecdafe89551f9",
            "placeholder": "​",
            "style": "IPY_MODEL_ef928b5f7f75432d96b301fd15218523",
            "value": " 10.7k/10.7k [00:00&lt;00:00, 331kB/s]"
          }
        },
        "40a2d2f6e68d4132ae486cd6e1458ae1": {
          "model_module": "@jupyter-widgets/base",
          "model_name": "LayoutModel",
          "model_module_version": "1.2.0",
          "state": {
            "_model_module": "@jupyter-widgets/base",
            "_model_module_version": "1.2.0",
            "_model_name": "LayoutModel",
            "_view_count": null,
            "_view_module": "@jupyter-widgets/base",
            "_view_module_version": "1.2.0",
            "_view_name": "LayoutView",
            "align_content": null,
            "align_items": null,
            "align_self": null,
            "border": null,
            "bottom": null,
            "display": null,
            "flex": null,
            "flex_flow": null,
            "grid_area": null,
            "grid_auto_columns": null,
            "grid_auto_flow": null,
            "grid_auto_rows": null,
            "grid_column": null,
            "grid_gap": null,
            "grid_row": null,
            "grid_template_areas": null,
            "grid_template_columns": null,
            "grid_template_rows": null,
            "height": null,
            "justify_content": null,
            "justify_items": null,
            "left": null,
            "margin": null,
            "max_height": null,
            "max_width": null,
            "min_height": null,
            "min_width": null,
            "object_fit": null,
            "object_position": null,
            "order": null,
            "overflow": null,
            "overflow_x": null,
            "overflow_y": null,
            "padding": null,
            "right": null,
            "top": null,
            "visibility": null,
            "width": null
          }
        },
        "cffbba0683994f588bfa704bc1cf8ec0": {
          "model_module": "@jupyter-widgets/base",
          "model_name": "LayoutModel",
          "model_module_version": "1.2.0",
          "state": {
            "_model_module": "@jupyter-widgets/base",
            "_model_module_version": "1.2.0",
            "_model_name": "LayoutModel",
            "_view_count": null,
            "_view_module": "@jupyter-widgets/base",
            "_view_module_version": "1.2.0",
            "_view_name": "LayoutView",
            "align_content": null,
            "align_items": null,
            "align_self": null,
            "border": null,
            "bottom": null,
            "display": null,
            "flex": null,
            "flex_flow": null,
            "grid_area": null,
            "grid_auto_columns": null,
            "grid_auto_flow": null,
            "grid_auto_rows": null,
            "grid_column": null,
            "grid_gap": null,
            "grid_row": null,
            "grid_template_areas": null,
            "grid_template_columns": null,
            "grid_template_rows": null,
            "height": null,
            "justify_content": null,
            "justify_items": null,
            "left": null,
            "margin": null,
            "max_height": null,
            "max_width": null,
            "min_height": null,
            "min_width": null,
            "object_fit": null,
            "object_position": null,
            "order": null,
            "overflow": null,
            "overflow_x": null,
            "overflow_y": null,
            "padding": null,
            "right": null,
            "top": null,
            "visibility": null,
            "width": null
          }
        },
        "b537e46458cc4351a26bae3ad8ebacaa": {
          "model_module": "@jupyter-widgets/controls",
          "model_name": "DescriptionStyleModel",
          "model_module_version": "1.5.0",
          "state": {
            "_model_module": "@jupyter-widgets/controls",
            "_model_module_version": "1.5.0",
            "_model_name": "DescriptionStyleModel",
            "_view_count": null,
            "_view_module": "@jupyter-widgets/base",
            "_view_module_version": "1.2.0",
            "_view_name": "StyleView",
            "description_width": ""
          }
        },
        "44b378a3f452471e8ae909f55cd3b6f8": {
          "model_module": "@jupyter-widgets/base",
          "model_name": "LayoutModel",
          "model_module_version": "1.2.0",
          "state": {
            "_model_module": "@jupyter-widgets/base",
            "_model_module_version": "1.2.0",
            "_model_name": "LayoutModel",
            "_view_count": null,
            "_view_module": "@jupyter-widgets/base",
            "_view_module_version": "1.2.0",
            "_view_name": "LayoutView",
            "align_content": null,
            "align_items": null,
            "align_self": null,
            "border": null,
            "bottom": null,
            "display": null,
            "flex": null,
            "flex_flow": null,
            "grid_area": null,
            "grid_auto_columns": null,
            "grid_auto_flow": null,
            "grid_auto_rows": null,
            "grid_column": null,
            "grid_gap": null,
            "grid_row": null,
            "grid_template_areas": null,
            "grid_template_columns": null,
            "grid_template_rows": null,
            "height": null,
            "justify_content": null,
            "justify_items": null,
            "left": null,
            "margin": null,
            "max_height": null,
            "max_width": null,
            "min_height": null,
            "min_width": null,
            "object_fit": null,
            "object_position": null,
            "order": null,
            "overflow": null,
            "overflow_x": null,
            "overflow_y": null,
            "padding": null,
            "right": null,
            "top": null,
            "visibility": null,
            "width": null
          }
        },
        "87edf5f5b4d84d86ad536182688d1cd5": {
          "model_module": "@jupyter-widgets/controls",
          "model_name": "ProgressStyleModel",
          "model_module_version": "1.5.0",
          "state": {
            "_model_module": "@jupyter-widgets/controls",
            "_model_module_version": "1.5.0",
            "_model_name": "ProgressStyleModel",
            "_view_count": null,
            "_view_module": "@jupyter-widgets/base",
            "_view_module_version": "1.2.0",
            "_view_name": "StyleView",
            "bar_color": null,
            "description_width": ""
          }
        },
        "8e8195a877274fa1b62ecdafe89551f9": {
          "model_module": "@jupyter-widgets/base",
          "model_name": "LayoutModel",
          "model_module_version": "1.2.0",
          "state": {
            "_model_module": "@jupyter-widgets/base",
            "_model_module_version": "1.2.0",
            "_model_name": "LayoutModel",
            "_view_count": null,
            "_view_module": "@jupyter-widgets/base",
            "_view_module_version": "1.2.0",
            "_view_name": "LayoutView",
            "align_content": null,
            "align_items": null,
            "align_self": null,
            "border": null,
            "bottom": null,
            "display": null,
            "flex": null,
            "flex_flow": null,
            "grid_area": null,
            "grid_auto_columns": null,
            "grid_auto_flow": null,
            "grid_auto_rows": null,
            "grid_column": null,
            "grid_gap": null,
            "grid_row": null,
            "grid_template_areas": null,
            "grid_template_columns": null,
            "grid_template_rows": null,
            "height": null,
            "justify_content": null,
            "justify_items": null,
            "left": null,
            "margin": null,
            "max_height": null,
            "max_width": null,
            "min_height": null,
            "min_width": null,
            "object_fit": null,
            "object_position": null,
            "order": null,
            "overflow": null,
            "overflow_x": null,
            "overflow_y": null,
            "padding": null,
            "right": null,
            "top": null,
            "visibility": null,
            "width": null
          }
        },
        "ef928b5f7f75432d96b301fd15218523": {
          "model_module": "@jupyter-widgets/controls",
          "model_name": "DescriptionStyleModel",
          "model_module_version": "1.5.0",
          "state": {
            "_model_module": "@jupyter-widgets/controls",
            "_model_module_version": "1.5.0",
            "_model_name": "DescriptionStyleModel",
            "_view_count": null,
            "_view_module": "@jupyter-widgets/base",
            "_view_module_version": "1.2.0",
            "_view_name": "StyleView",
            "description_width": ""
          }
        },
        "73403c5b781f49cf9eb3b1a536a2aa01": {
          "model_module": "@jupyter-widgets/controls",
          "model_name": "HBoxModel",
          "model_module_version": "1.5.0",
          "state": {
            "_dom_classes": [],
            "_model_module": "@jupyter-widgets/controls",
            "_model_module_version": "1.5.0",
            "_model_name": "HBoxModel",
            "_view_count": null,
            "_view_module": "@jupyter-widgets/controls",
            "_view_module_version": "1.5.0",
            "_view_name": "HBoxView",
            "box_style": "",
            "children": [
              "IPY_MODEL_902d6111a7c04139b5107f6c03173431",
              "IPY_MODEL_6134da6c076a46ed841e728e3d6f1cbf",
              "IPY_MODEL_f541578369b34161a6b247c7584964e0"
            ],
            "layout": "IPY_MODEL_f3e79a23328248fdade789bf72911262"
          }
        },
        "902d6111a7c04139b5107f6c03173431": {
          "model_module": "@jupyter-widgets/controls",
          "model_name": "HTMLModel",
          "model_module_version": "1.5.0",
          "state": {
            "_dom_classes": [],
            "_model_module": "@jupyter-widgets/controls",
            "_model_module_version": "1.5.0",
            "_model_name": "HTMLModel",
            "_view_count": null,
            "_view_module": "@jupyter-widgets/controls",
            "_view_module_version": "1.5.0",
            "_view_name": "HTMLView",
            "description": "",
            "description_tooltip": null,
            "layout": "IPY_MODEL_c60d07bee5dc4fb4a06b7d0a5abeb9ca",
            "placeholder": "​",
            "style": "IPY_MODEL_c74f9bb88b744c228de3ab9d554427d7",
            "value": "sentence_bert_config.json: 100%"
          }
        },
        "6134da6c076a46ed841e728e3d6f1cbf": {
          "model_module": "@jupyter-widgets/controls",
          "model_name": "FloatProgressModel",
          "model_module_version": "1.5.0",
          "state": {
            "_dom_classes": [],
            "_model_module": "@jupyter-widgets/controls",
            "_model_module_version": "1.5.0",
            "_model_name": "FloatProgressModel",
            "_view_count": null,
            "_view_module": "@jupyter-widgets/controls",
            "_view_module_version": "1.5.0",
            "_view_name": "ProgressView",
            "bar_style": "success",
            "description": "",
            "description_tooltip": null,
            "layout": "IPY_MODEL_ef5df3d297434a5883af2dfe99c3f6db",
            "max": 53,
            "min": 0,
            "orientation": "horizontal",
            "style": "IPY_MODEL_8914fe56459e4e3eacc1de984e7f93f4",
            "value": 53
          }
        },
        "f541578369b34161a6b247c7584964e0": {
          "model_module": "@jupyter-widgets/controls",
          "model_name": "HTMLModel",
          "model_module_version": "1.5.0",
          "state": {
            "_dom_classes": [],
            "_model_module": "@jupyter-widgets/controls",
            "_model_module_version": "1.5.0",
            "_model_name": "HTMLModel",
            "_view_count": null,
            "_view_module": "@jupyter-widgets/controls",
            "_view_module_version": "1.5.0",
            "_view_name": "HTMLView",
            "description": "",
            "description_tooltip": null,
            "layout": "IPY_MODEL_5830609709724487aabd3eb16097806b",
            "placeholder": "​",
            "style": "IPY_MODEL_9090d25d27af40e88a9b090ea1ce90f6",
            "value": " 53.0/53.0 [00:00&lt;00:00, 1.70kB/s]"
          }
        },
        "f3e79a23328248fdade789bf72911262": {
          "model_module": "@jupyter-widgets/base",
          "model_name": "LayoutModel",
          "model_module_version": "1.2.0",
          "state": {
            "_model_module": "@jupyter-widgets/base",
            "_model_module_version": "1.2.0",
            "_model_name": "LayoutModel",
            "_view_count": null,
            "_view_module": "@jupyter-widgets/base",
            "_view_module_version": "1.2.0",
            "_view_name": "LayoutView",
            "align_content": null,
            "align_items": null,
            "align_self": null,
            "border": null,
            "bottom": null,
            "display": null,
            "flex": null,
            "flex_flow": null,
            "grid_area": null,
            "grid_auto_columns": null,
            "grid_auto_flow": null,
            "grid_auto_rows": null,
            "grid_column": null,
            "grid_gap": null,
            "grid_row": null,
            "grid_template_areas": null,
            "grid_template_columns": null,
            "grid_template_rows": null,
            "height": null,
            "justify_content": null,
            "justify_items": null,
            "left": null,
            "margin": null,
            "max_height": null,
            "max_width": null,
            "min_height": null,
            "min_width": null,
            "object_fit": null,
            "object_position": null,
            "order": null,
            "overflow": null,
            "overflow_x": null,
            "overflow_y": null,
            "padding": null,
            "right": null,
            "top": null,
            "visibility": null,
            "width": null
          }
        },
        "c60d07bee5dc4fb4a06b7d0a5abeb9ca": {
          "model_module": "@jupyter-widgets/base",
          "model_name": "LayoutModel",
          "model_module_version": "1.2.0",
          "state": {
            "_model_module": "@jupyter-widgets/base",
            "_model_module_version": "1.2.0",
            "_model_name": "LayoutModel",
            "_view_count": null,
            "_view_module": "@jupyter-widgets/base",
            "_view_module_version": "1.2.0",
            "_view_name": "LayoutView",
            "align_content": null,
            "align_items": null,
            "align_self": null,
            "border": null,
            "bottom": null,
            "display": null,
            "flex": null,
            "flex_flow": null,
            "grid_area": null,
            "grid_auto_columns": null,
            "grid_auto_flow": null,
            "grid_auto_rows": null,
            "grid_column": null,
            "grid_gap": null,
            "grid_row": null,
            "grid_template_areas": null,
            "grid_template_columns": null,
            "grid_template_rows": null,
            "height": null,
            "justify_content": null,
            "justify_items": null,
            "left": null,
            "margin": null,
            "max_height": null,
            "max_width": null,
            "min_height": null,
            "min_width": null,
            "object_fit": null,
            "object_position": null,
            "order": null,
            "overflow": null,
            "overflow_x": null,
            "overflow_y": null,
            "padding": null,
            "right": null,
            "top": null,
            "visibility": null,
            "width": null
          }
        },
        "c74f9bb88b744c228de3ab9d554427d7": {
          "model_module": "@jupyter-widgets/controls",
          "model_name": "DescriptionStyleModel",
          "model_module_version": "1.5.0",
          "state": {
            "_model_module": "@jupyter-widgets/controls",
            "_model_module_version": "1.5.0",
            "_model_name": "DescriptionStyleModel",
            "_view_count": null,
            "_view_module": "@jupyter-widgets/base",
            "_view_module_version": "1.2.0",
            "_view_name": "StyleView",
            "description_width": ""
          }
        },
        "ef5df3d297434a5883af2dfe99c3f6db": {
          "model_module": "@jupyter-widgets/base",
          "model_name": "LayoutModel",
          "model_module_version": "1.2.0",
          "state": {
            "_model_module": "@jupyter-widgets/base",
            "_model_module_version": "1.2.0",
            "_model_name": "LayoutModel",
            "_view_count": null,
            "_view_module": "@jupyter-widgets/base",
            "_view_module_version": "1.2.0",
            "_view_name": "LayoutView",
            "align_content": null,
            "align_items": null,
            "align_self": null,
            "border": null,
            "bottom": null,
            "display": null,
            "flex": null,
            "flex_flow": null,
            "grid_area": null,
            "grid_auto_columns": null,
            "grid_auto_flow": null,
            "grid_auto_rows": null,
            "grid_column": null,
            "grid_gap": null,
            "grid_row": null,
            "grid_template_areas": null,
            "grid_template_columns": null,
            "grid_template_rows": null,
            "height": null,
            "justify_content": null,
            "justify_items": null,
            "left": null,
            "margin": null,
            "max_height": null,
            "max_width": null,
            "min_height": null,
            "min_width": null,
            "object_fit": null,
            "object_position": null,
            "order": null,
            "overflow": null,
            "overflow_x": null,
            "overflow_y": null,
            "padding": null,
            "right": null,
            "top": null,
            "visibility": null,
            "width": null
          }
        },
        "8914fe56459e4e3eacc1de984e7f93f4": {
          "model_module": "@jupyter-widgets/controls",
          "model_name": "ProgressStyleModel",
          "model_module_version": "1.5.0",
          "state": {
            "_model_module": "@jupyter-widgets/controls",
            "_model_module_version": "1.5.0",
            "_model_name": "ProgressStyleModel",
            "_view_count": null,
            "_view_module": "@jupyter-widgets/base",
            "_view_module_version": "1.2.0",
            "_view_name": "StyleView",
            "bar_color": null,
            "description_width": ""
          }
        },
        "5830609709724487aabd3eb16097806b": {
          "model_module": "@jupyter-widgets/base",
          "model_name": "LayoutModel",
          "model_module_version": "1.2.0",
          "state": {
            "_model_module": "@jupyter-widgets/base",
            "_model_module_version": "1.2.0",
            "_model_name": "LayoutModel",
            "_view_count": null,
            "_view_module": "@jupyter-widgets/base",
            "_view_module_version": "1.2.0",
            "_view_name": "LayoutView",
            "align_content": null,
            "align_items": null,
            "align_self": null,
            "border": null,
            "bottom": null,
            "display": null,
            "flex": null,
            "flex_flow": null,
            "grid_area": null,
            "grid_auto_columns": null,
            "grid_auto_flow": null,
            "grid_auto_rows": null,
            "grid_column": null,
            "grid_gap": null,
            "grid_row": null,
            "grid_template_areas": null,
            "grid_template_columns": null,
            "grid_template_rows": null,
            "height": null,
            "justify_content": null,
            "justify_items": null,
            "left": null,
            "margin": null,
            "max_height": null,
            "max_width": null,
            "min_height": null,
            "min_width": null,
            "object_fit": null,
            "object_position": null,
            "order": null,
            "overflow": null,
            "overflow_x": null,
            "overflow_y": null,
            "padding": null,
            "right": null,
            "top": null,
            "visibility": null,
            "width": null
          }
        },
        "9090d25d27af40e88a9b090ea1ce90f6": {
          "model_module": "@jupyter-widgets/controls",
          "model_name": "DescriptionStyleModel",
          "model_module_version": "1.5.0",
          "state": {
            "_model_module": "@jupyter-widgets/controls",
            "_model_module_version": "1.5.0",
            "_model_name": "DescriptionStyleModel",
            "_view_count": null,
            "_view_module": "@jupyter-widgets/base",
            "_view_module_version": "1.2.0",
            "_view_name": "StyleView",
            "description_width": ""
          }
        },
        "8d9341b6155e49328b2c4ae1dcd18dbb": {
          "model_module": "@jupyter-widgets/controls",
          "model_name": "HBoxModel",
          "model_module_version": "1.5.0",
          "state": {
            "_dom_classes": [],
            "_model_module": "@jupyter-widgets/controls",
            "_model_module_version": "1.5.0",
            "_model_name": "HBoxModel",
            "_view_count": null,
            "_view_module": "@jupyter-widgets/controls",
            "_view_module_version": "1.5.0",
            "_view_name": "HBoxView",
            "box_style": "",
            "children": [
              "IPY_MODEL_c6c19622b87840da8d02b3deb76db028",
              "IPY_MODEL_67427a158e3a48eea568a15272599452",
              "IPY_MODEL_5e16cff2ad0c4359aeacb539315e2f40"
            ],
            "layout": "IPY_MODEL_9413eb0bde2942a69aa5af22ae3cfefa"
          }
        },
        "c6c19622b87840da8d02b3deb76db028": {
          "model_module": "@jupyter-widgets/controls",
          "model_name": "HTMLModel",
          "model_module_version": "1.5.0",
          "state": {
            "_dom_classes": [],
            "_model_module": "@jupyter-widgets/controls",
            "_model_module_version": "1.5.0",
            "_model_name": "HTMLModel",
            "_view_count": null,
            "_view_module": "@jupyter-widgets/controls",
            "_view_module_version": "1.5.0",
            "_view_name": "HTMLView",
            "description": "",
            "description_tooltip": null,
            "layout": "IPY_MODEL_354e5d4342824cbdbb8522a92215f6e3",
            "placeholder": "​",
            "style": "IPY_MODEL_4ed34e7312fb485689ef30d9a2c8c18d",
            "value": "config.json: 100%"
          }
        },
        "67427a158e3a48eea568a15272599452": {
          "model_module": "@jupyter-widgets/controls",
          "model_name": "FloatProgressModel",
          "model_module_version": "1.5.0",
          "state": {
            "_dom_classes": [],
            "_model_module": "@jupyter-widgets/controls",
            "_model_module_version": "1.5.0",
            "_model_name": "FloatProgressModel",
            "_view_count": null,
            "_view_module": "@jupyter-widgets/controls",
            "_view_module_version": "1.5.0",
            "_view_name": "ProgressView",
            "bar_style": "success",
            "description": "",
            "description_tooltip": null,
            "layout": "IPY_MODEL_0d22b4213289483b98df18137cdea04e",
            "max": 612,
            "min": 0,
            "orientation": "horizontal",
            "style": "IPY_MODEL_d58b1081b9b3401781002dc0e7401133",
            "value": 612
          }
        },
        "5e16cff2ad0c4359aeacb539315e2f40": {
          "model_module": "@jupyter-widgets/controls",
          "model_name": "HTMLModel",
          "model_module_version": "1.5.0",
          "state": {
            "_dom_classes": [],
            "_model_module": "@jupyter-widgets/controls",
            "_model_module_version": "1.5.0",
            "_model_name": "HTMLModel",
            "_view_count": null,
            "_view_module": "@jupyter-widgets/controls",
            "_view_module_version": "1.5.0",
            "_view_name": "HTMLView",
            "description": "",
            "description_tooltip": null,
            "layout": "IPY_MODEL_25d9233e26b34dfc89bdbb678fb25a13",
            "placeholder": "​",
            "style": "IPY_MODEL_5a2c01d808dd45ac9b77b500efadb279",
            "value": " 612/612 [00:00&lt;00:00, 20.7kB/s]"
          }
        },
        "9413eb0bde2942a69aa5af22ae3cfefa": {
          "model_module": "@jupyter-widgets/base",
          "model_name": "LayoutModel",
          "model_module_version": "1.2.0",
          "state": {
            "_model_module": "@jupyter-widgets/base",
            "_model_module_version": "1.2.0",
            "_model_name": "LayoutModel",
            "_view_count": null,
            "_view_module": "@jupyter-widgets/base",
            "_view_module_version": "1.2.0",
            "_view_name": "LayoutView",
            "align_content": null,
            "align_items": null,
            "align_self": null,
            "border": null,
            "bottom": null,
            "display": null,
            "flex": null,
            "flex_flow": null,
            "grid_area": null,
            "grid_auto_columns": null,
            "grid_auto_flow": null,
            "grid_auto_rows": null,
            "grid_column": null,
            "grid_gap": null,
            "grid_row": null,
            "grid_template_areas": null,
            "grid_template_columns": null,
            "grid_template_rows": null,
            "height": null,
            "justify_content": null,
            "justify_items": null,
            "left": null,
            "margin": null,
            "max_height": null,
            "max_width": null,
            "min_height": null,
            "min_width": null,
            "object_fit": null,
            "object_position": null,
            "order": null,
            "overflow": null,
            "overflow_x": null,
            "overflow_y": null,
            "padding": null,
            "right": null,
            "top": null,
            "visibility": null,
            "width": null
          }
        },
        "354e5d4342824cbdbb8522a92215f6e3": {
          "model_module": "@jupyter-widgets/base",
          "model_name": "LayoutModel",
          "model_module_version": "1.2.0",
          "state": {
            "_model_module": "@jupyter-widgets/base",
            "_model_module_version": "1.2.0",
            "_model_name": "LayoutModel",
            "_view_count": null,
            "_view_module": "@jupyter-widgets/base",
            "_view_module_version": "1.2.0",
            "_view_name": "LayoutView",
            "align_content": null,
            "align_items": null,
            "align_self": null,
            "border": null,
            "bottom": null,
            "display": null,
            "flex": null,
            "flex_flow": null,
            "grid_area": null,
            "grid_auto_columns": null,
            "grid_auto_flow": null,
            "grid_auto_rows": null,
            "grid_column": null,
            "grid_gap": null,
            "grid_row": null,
            "grid_template_areas": null,
            "grid_template_columns": null,
            "grid_template_rows": null,
            "height": null,
            "justify_content": null,
            "justify_items": null,
            "left": null,
            "margin": null,
            "max_height": null,
            "max_width": null,
            "min_height": null,
            "min_width": null,
            "object_fit": null,
            "object_position": null,
            "order": null,
            "overflow": null,
            "overflow_x": null,
            "overflow_y": null,
            "padding": null,
            "right": null,
            "top": null,
            "visibility": null,
            "width": null
          }
        },
        "4ed34e7312fb485689ef30d9a2c8c18d": {
          "model_module": "@jupyter-widgets/controls",
          "model_name": "DescriptionStyleModel",
          "model_module_version": "1.5.0",
          "state": {
            "_model_module": "@jupyter-widgets/controls",
            "_model_module_version": "1.5.0",
            "_model_name": "DescriptionStyleModel",
            "_view_count": null,
            "_view_module": "@jupyter-widgets/base",
            "_view_module_version": "1.2.0",
            "_view_name": "StyleView",
            "description_width": ""
          }
        },
        "0d22b4213289483b98df18137cdea04e": {
          "model_module": "@jupyter-widgets/base",
          "model_name": "LayoutModel",
          "model_module_version": "1.2.0",
          "state": {
            "_model_module": "@jupyter-widgets/base",
            "_model_module_version": "1.2.0",
            "_model_name": "LayoutModel",
            "_view_count": null,
            "_view_module": "@jupyter-widgets/base",
            "_view_module_version": "1.2.0",
            "_view_name": "LayoutView",
            "align_content": null,
            "align_items": null,
            "align_self": null,
            "border": null,
            "bottom": null,
            "display": null,
            "flex": null,
            "flex_flow": null,
            "grid_area": null,
            "grid_auto_columns": null,
            "grid_auto_flow": null,
            "grid_auto_rows": null,
            "grid_column": null,
            "grid_gap": null,
            "grid_row": null,
            "grid_template_areas": null,
            "grid_template_columns": null,
            "grid_template_rows": null,
            "height": null,
            "justify_content": null,
            "justify_items": null,
            "left": null,
            "margin": null,
            "max_height": null,
            "max_width": null,
            "min_height": null,
            "min_width": null,
            "object_fit": null,
            "object_position": null,
            "order": null,
            "overflow": null,
            "overflow_x": null,
            "overflow_y": null,
            "padding": null,
            "right": null,
            "top": null,
            "visibility": null,
            "width": null
          }
        },
        "d58b1081b9b3401781002dc0e7401133": {
          "model_module": "@jupyter-widgets/controls",
          "model_name": "ProgressStyleModel",
          "model_module_version": "1.5.0",
          "state": {
            "_model_module": "@jupyter-widgets/controls",
            "_model_module_version": "1.5.0",
            "_model_name": "ProgressStyleModel",
            "_view_count": null,
            "_view_module": "@jupyter-widgets/base",
            "_view_module_version": "1.2.0",
            "_view_name": "StyleView",
            "bar_color": null,
            "description_width": ""
          }
        },
        "25d9233e26b34dfc89bdbb678fb25a13": {
          "model_module": "@jupyter-widgets/base",
          "model_name": "LayoutModel",
          "model_module_version": "1.2.0",
          "state": {
            "_model_module": "@jupyter-widgets/base",
            "_model_module_version": "1.2.0",
            "_model_name": "LayoutModel",
            "_view_count": null,
            "_view_module": "@jupyter-widgets/base",
            "_view_module_version": "1.2.0",
            "_view_name": "LayoutView",
            "align_content": null,
            "align_items": null,
            "align_self": null,
            "border": null,
            "bottom": null,
            "display": null,
            "flex": null,
            "flex_flow": null,
            "grid_area": null,
            "grid_auto_columns": null,
            "grid_auto_flow": null,
            "grid_auto_rows": null,
            "grid_column": null,
            "grid_gap": null,
            "grid_row": null,
            "grid_template_areas": null,
            "grid_template_columns": null,
            "grid_template_rows": null,
            "height": null,
            "justify_content": null,
            "justify_items": null,
            "left": null,
            "margin": null,
            "max_height": null,
            "max_width": null,
            "min_height": null,
            "min_width": null,
            "object_fit": null,
            "object_position": null,
            "order": null,
            "overflow": null,
            "overflow_x": null,
            "overflow_y": null,
            "padding": null,
            "right": null,
            "top": null,
            "visibility": null,
            "width": null
          }
        },
        "5a2c01d808dd45ac9b77b500efadb279": {
          "model_module": "@jupyter-widgets/controls",
          "model_name": "DescriptionStyleModel",
          "model_module_version": "1.5.0",
          "state": {
            "_model_module": "@jupyter-widgets/controls",
            "_model_module_version": "1.5.0",
            "_model_name": "DescriptionStyleModel",
            "_view_count": null,
            "_view_module": "@jupyter-widgets/base",
            "_view_module_version": "1.2.0",
            "_view_name": "StyleView",
            "description_width": ""
          }
        },
        "a5ca0969c9474eed99407e6bc3db690a": {
          "model_module": "@jupyter-widgets/controls",
          "model_name": "HBoxModel",
          "model_module_version": "1.5.0",
          "state": {
            "_dom_classes": [],
            "_model_module": "@jupyter-widgets/controls",
            "_model_module_version": "1.5.0",
            "_model_name": "HBoxModel",
            "_view_count": null,
            "_view_module": "@jupyter-widgets/controls",
            "_view_module_version": "1.5.0",
            "_view_name": "HBoxView",
            "box_style": "",
            "children": [
              "IPY_MODEL_5d967c7ba3f54019a396c618e9afec09",
              "IPY_MODEL_8168672e722249a19b7bebae13134079",
              "IPY_MODEL_2ab39a25b6c84460b5830d25410ace8f"
            ],
            "layout": "IPY_MODEL_94f1e1e2c33c4b5a9aa3535ed3af1143"
          }
        },
        "5d967c7ba3f54019a396c618e9afec09": {
          "model_module": "@jupyter-widgets/controls",
          "model_name": "HTMLModel",
          "model_module_version": "1.5.0",
          "state": {
            "_dom_classes": [],
            "_model_module": "@jupyter-widgets/controls",
            "_model_module_version": "1.5.0",
            "_model_name": "HTMLModel",
            "_view_count": null,
            "_view_module": "@jupyter-widgets/controls",
            "_view_module_version": "1.5.0",
            "_view_name": "HTMLView",
            "description": "",
            "description_tooltip": null,
            "layout": "IPY_MODEL_b9e7b80e048e444385e7cfdfd8906de8",
            "placeholder": "​",
            "style": "IPY_MODEL_3416a26ca0b04638afd3fb67c08626c4",
            "value": "model.safetensors: 100%"
          }
        },
        "8168672e722249a19b7bebae13134079": {
          "model_module": "@jupyter-widgets/controls",
          "model_name": "FloatProgressModel",
          "model_module_version": "1.5.0",
          "state": {
            "_dom_classes": [],
            "_model_module": "@jupyter-widgets/controls",
            "_model_module_version": "1.5.0",
            "_model_name": "FloatProgressModel",
            "_view_count": null,
            "_view_module": "@jupyter-widgets/controls",
            "_view_module_version": "1.5.0",
            "_view_name": "ProgressView",
            "bar_style": "success",
            "description": "",
            "description_tooltip": null,
            "layout": "IPY_MODEL_5de1a41f958a4658858adcefff8a23c7",
            "max": 90868376,
            "min": 0,
            "orientation": "horizontal",
            "style": "IPY_MODEL_a905535a5b5a4fb88f83ceb663b63104",
            "value": 90868376
          }
        },
        "2ab39a25b6c84460b5830d25410ace8f": {
          "model_module": "@jupyter-widgets/controls",
          "model_name": "HTMLModel",
          "model_module_version": "1.5.0",
          "state": {
            "_dom_classes": [],
            "_model_module": "@jupyter-widgets/controls",
            "_model_module_version": "1.5.0",
            "_model_name": "HTMLModel",
            "_view_count": null,
            "_view_module": "@jupyter-widgets/controls",
            "_view_module_version": "1.5.0",
            "_view_name": "HTMLView",
            "description": "",
            "description_tooltip": null,
            "layout": "IPY_MODEL_7e31f8d14db84b91895d5c1e9d5e39fd",
            "placeholder": "​",
            "style": "IPY_MODEL_22ba7e0373204f178a0892dba06aa4dc",
            "value": " 90.9M/90.9M [00:01&lt;00:00, 114MB/s]"
          }
        },
        "94f1e1e2c33c4b5a9aa3535ed3af1143": {
          "model_module": "@jupyter-widgets/base",
          "model_name": "LayoutModel",
          "model_module_version": "1.2.0",
          "state": {
            "_model_module": "@jupyter-widgets/base",
            "_model_module_version": "1.2.0",
            "_model_name": "LayoutModel",
            "_view_count": null,
            "_view_module": "@jupyter-widgets/base",
            "_view_module_version": "1.2.0",
            "_view_name": "LayoutView",
            "align_content": null,
            "align_items": null,
            "align_self": null,
            "border": null,
            "bottom": null,
            "display": null,
            "flex": null,
            "flex_flow": null,
            "grid_area": null,
            "grid_auto_columns": null,
            "grid_auto_flow": null,
            "grid_auto_rows": null,
            "grid_column": null,
            "grid_gap": null,
            "grid_row": null,
            "grid_template_areas": null,
            "grid_template_columns": null,
            "grid_template_rows": null,
            "height": null,
            "justify_content": null,
            "justify_items": null,
            "left": null,
            "margin": null,
            "max_height": null,
            "max_width": null,
            "min_height": null,
            "min_width": null,
            "object_fit": null,
            "object_position": null,
            "order": null,
            "overflow": null,
            "overflow_x": null,
            "overflow_y": null,
            "padding": null,
            "right": null,
            "top": null,
            "visibility": null,
            "width": null
          }
        },
        "b9e7b80e048e444385e7cfdfd8906de8": {
          "model_module": "@jupyter-widgets/base",
          "model_name": "LayoutModel",
          "model_module_version": "1.2.0",
          "state": {
            "_model_module": "@jupyter-widgets/base",
            "_model_module_version": "1.2.0",
            "_model_name": "LayoutModel",
            "_view_count": null,
            "_view_module": "@jupyter-widgets/base",
            "_view_module_version": "1.2.0",
            "_view_name": "LayoutView",
            "align_content": null,
            "align_items": null,
            "align_self": null,
            "border": null,
            "bottom": null,
            "display": null,
            "flex": null,
            "flex_flow": null,
            "grid_area": null,
            "grid_auto_columns": null,
            "grid_auto_flow": null,
            "grid_auto_rows": null,
            "grid_column": null,
            "grid_gap": null,
            "grid_row": null,
            "grid_template_areas": null,
            "grid_template_columns": null,
            "grid_template_rows": null,
            "height": null,
            "justify_content": null,
            "justify_items": null,
            "left": null,
            "margin": null,
            "max_height": null,
            "max_width": null,
            "min_height": null,
            "min_width": null,
            "object_fit": null,
            "object_position": null,
            "order": null,
            "overflow": null,
            "overflow_x": null,
            "overflow_y": null,
            "padding": null,
            "right": null,
            "top": null,
            "visibility": null,
            "width": null
          }
        },
        "3416a26ca0b04638afd3fb67c08626c4": {
          "model_module": "@jupyter-widgets/controls",
          "model_name": "DescriptionStyleModel",
          "model_module_version": "1.5.0",
          "state": {
            "_model_module": "@jupyter-widgets/controls",
            "_model_module_version": "1.5.0",
            "_model_name": "DescriptionStyleModel",
            "_view_count": null,
            "_view_module": "@jupyter-widgets/base",
            "_view_module_version": "1.2.0",
            "_view_name": "StyleView",
            "description_width": ""
          }
        },
        "5de1a41f958a4658858adcefff8a23c7": {
          "model_module": "@jupyter-widgets/base",
          "model_name": "LayoutModel",
          "model_module_version": "1.2.0",
          "state": {
            "_model_module": "@jupyter-widgets/base",
            "_model_module_version": "1.2.0",
            "_model_name": "LayoutModel",
            "_view_count": null,
            "_view_module": "@jupyter-widgets/base",
            "_view_module_version": "1.2.0",
            "_view_name": "LayoutView",
            "align_content": null,
            "align_items": null,
            "align_self": null,
            "border": null,
            "bottom": null,
            "display": null,
            "flex": null,
            "flex_flow": null,
            "grid_area": null,
            "grid_auto_columns": null,
            "grid_auto_flow": null,
            "grid_auto_rows": null,
            "grid_column": null,
            "grid_gap": null,
            "grid_row": null,
            "grid_template_areas": null,
            "grid_template_columns": null,
            "grid_template_rows": null,
            "height": null,
            "justify_content": null,
            "justify_items": null,
            "left": null,
            "margin": null,
            "max_height": null,
            "max_width": null,
            "min_height": null,
            "min_width": null,
            "object_fit": null,
            "object_position": null,
            "order": null,
            "overflow": null,
            "overflow_x": null,
            "overflow_y": null,
            "padding": null,
            "right": null,
            "top": null,
            "visibility": null,
            "width": null
          }
        },
        "a905535a5b5a4fb88f83ceb663b63104": {
          "model_module": "@jupyter-widgets/controls",
          "model_name": "ProgressStyleModel",
          "model_module_version": "1.5.0",
          "state": {
            "_model_module": "@jupyter-widgets/controls",
            "_model_module_version": "1.5.0",
            "_model_name": "ProgressStyleModel",
            "_view_count": null,
            "_view_module": "@jupyter-widgets/base",
            "_view_module_version": "1.2.0",
            "_view_name": "StyleView",
            "bar_color": null,
            "description_width": ""
          }
        },
        "7e31f8d14db84b91895d5c1e9d5e39fd": {
          "model_module": "@jupyter-widgets/base",
          "model_name": "LayoutModel",
          "model_module_version": "1.2.0",
          "state": {
            "_model_module": "@jupyter-widgets/base",
            "_model_module_version": "1.2.0",
            "_model_name": "LayoutModel",
            "_view_count": null,
            "_view_module": "@jupyter-widgets/base",
            "_view_module_version": "1.2.0",
            "_view_name": "LayoutView",
            "align_content": null,
            "align_items": null,
            "align_self": null,
            "border": null,
            "bottom": null,
            "display": null,
            "flex": null,
            "flex_flow": null,
            "grid_area": null,
            "grid_auto_columns": null,
            "grid_auto_flow": null,
            "grid_auto_rows": null,
            "grid_column": null,
            "grid_gap": null,
            "grid_row": null,
            "grid_template_areas": null,
            "grid_template_columns": null,
            "grid_template_rows": null,
            "height": null,
            "justify_content": null,
            "justify_items": null,
            "left": null,
            "margin": null,
            "max_height": null,
            "max_width": null,
            "min_height": null,
            "min_width": null,
            "object_fit": null,
            "object_position": null,
            "order": null,
            "overflow": null,
            "overflow_x": null,
            "overflow_y": null,
            "padding": null,
            "right": null,
            "top": null,
            "visibility": null,
            "width": null
          }
        },
        "22ba7e0373204f178a0892dba06aa4dc": {
          "model_module": "@jupyter-widgets/controls",
          "model_name": "DescriptionStyleModel",
          "model_module_version": "1.5.0",
          "state": {
            "_model_module": "@jupyter-widgets/controls",
            "_model_module_version": "1.5.0",
            "_model_name": "DescriptionStyleModel",
            "_view_count": null,
            "_view_module": "@jupyter-widgets/base",
            "_view_module_version": "1.2.0",
            "_view_name": "StyleView",
            "description_width": ""
          }
        },
        "c272c3fba5794f25b0e76e0b301e4726": {
          "model_module": "@jupyter-widgets/controls",
          "model_name": "HBoxModel",
          "model_module_version": "1.5.0",
          "state": {
            "_dom_classes": [],
            "_model_module": "@jupyter-widgets/controls",
            "_model_module_version": "1.5.0",
            "_model_name": "HBoxModel",
            "_view_count": null,
            "_view_module": "@jupyter-widgets/controls",
            "_view_module_version": "1.5.0",
            "_view_name": "HBoxView",
            "box_style": "",
            "children": [
              "IPY_MODEL_e93279a19d70442a800af7c4a5240393",
              "IPY_MODEL_21240714f19b468dbed7778ce7d24e0a",
              "IPY_MODEL_2c293aab7fd546da9845fa9e2a71ba3c"
            ],
            "layout": "IPY_MODEL_f512c2507d984d31bcd741dcf63d54d7"
          }
        },
        "e93279a19d70442a800af7c4a5240393": {
          "model_module": "@jupyter-widgets/controls",
          "model_name": "HTMLModel",
          "model_module_version": "1.5.0",
          "state": {
            "_dom_classes": [],
            "_model_module": "@jupyter-widgets/controls",
            "_model_module_version": "1.5.0",
            "_model_name": "HTMLModel",
            "_view_count": null,
            "_view_module": "@jupyter-widgets/controls",
            "_view_module_version": "1.5.0",
            "_view_name": "HTMLView",
            "description": "",
            "description_tooltip": null,
            "layout": "IPY_MODEL_d9f9690546124dbaadc02309e4691bd1",
            "placeholder": "​",
            "style": "IPY_MODEL_311e176bd81743f189f8d5666d070821",
            "value": "tokenizer_config.json: 100%"
          }
        },
        "21240714f19b468dbed7778ce7d24e0a": {
          "model_module": "@jupyter-widgets/controls",
          "model_name": "FloatProgressModel",
          "model_module_version": "1.5.0",
          "state": {
            "_dom_classes": [],
            "_model_module": "@jupyter-widgets/controls",
            "_model_module_version": "1.5.0",
            "_model_name": "FloatProgressModel",
            "_view_count": null,
            "_view_module": "@jupyter-widgets/controls",
            "_view_module_version": "1.5.0",
            "_view_name": "ProgressView",
            "bar_style": "success",
            "description": "",
            "description_tooltip": null,
            "layout": "IPY_MODEL_c7b7a4a009454e05a19f8263187c2b12",
            "max": 350,
            "min": 0,
            "orientation": "horizontal",
            "style": "IPY_MODEL_538336749592499c9b731f89fd882546",
            "value": 350
          }
        },
        "2c293aab7fd546da9845fa9e2a71ba3c": {
          "model_module": "@jupyter-widgets/controls",
          "model_name": "HTMLModel",
          "model_module_version": "1.5.0",
          "state": {
            "_dom_classes": [],
            "_model_module": "@jupyter-widgets/controls",
            "_model_module_version": "1.5.0",
            "_model_name": "HTMLModel",
            "_view_count": null,
            "_view_module": "@jupyter-widgets/controls",
            "_view_module_version": "1.5.0",
            "_view_name": "HTMLView",
            "description": "",
            "description_tooltip": null,
            "layout": "IPY_MODEL_56d34aa93a61436dac919ab5477c2dc9",
            "placeholder": "​",
            "style": "IPY_MODEL_76655ad415b84ed1ad975b2983ccaa32",
            "value": " 350/350 [00:00&lt;00:00, 21.1kB/s]"
          }
        },
        "f512c2507d984d31bcd741dcf63d54d7": {
          "model_module": "@jupyter-widgets/base",
          "model_name": "LayoutModel",
          "model_module_version": "1.2.0",
          "state": {
            "_model_module": "@jupyter-widgets/base",
            "_model_module_version": "1.2.0",
            "_model_name": "LayoutModel",
            "_view_count": null,
            "_view_module": "@jupyter-widgets/base",
            "_view_module_version": "1.2.0",
            "_view_name": "LayoutView",
            "align_content": null,
            "align_items": null,
            "align_self": null,
            "border": null,
            "bottom": null,
            "display": null,
            "flex": null,
            "flex_flow": null,
            "grid_area": null,
            "grid_auto_columns": null,
            "grid_auto_flow": null,
            "grid_auto_rows": null,
            "grid_column": null,
            "grid_gap": null,
            "grid_row": null,
            "grid_template_areas": null,
            "grid_template_columns": null,
            "grid_template_rows": null,
            "height": null,
            "justify_content": null,
            "justify_items": null,
            "left": null,
            "margin": null,
            "max_height": null,
            "max_width": null,
            "min_height": null,
            "min_width": null,
            "object_fit": null,
            "object_position": null,
            "order": null,
            "overflow": null,
            "overflow_x": null,
            "overflow_y": null,
            "padding": null,
            "right": null,
            "top": null,
            "visibility": null,
            "width": null
          }
        },
        "d9f9690546124dbaadc02309e4691bd1": {
          "model_module": "@jupyter-widgets/base",
          "model_name": "LayoutModel",
          "model_module_version": "1.2.0",
          "state": {
            "_model_module": "@jupyter-widgets/base",
            "_model_module_version": "1.2.0",
            "_model_name": "LayoutModel",
            "_view_count": null,
            "_view_module": "@jupyter-widgets/base",
            "_view_module_version": "1.2.0",
            "_view_name": "LayoutView",
            "align_content": null,
            "align_items": null,
            "align_self": null,
            "border": null,
            "bottom": null,
            "display": null,
            "flex": null,
            "flex_flow": null,
            "grid_area": null,
            "grid_auto_columns": null,
            "grid_auto_flow": null,
            "grid_auto_rows": null,
            "grid_column": null,
            "grid_gap": null,
            "grid_row": null,
            "grid_template_areas": null,
            "grid_template_columns": null,
            "grid_template_rows": null,
            "height": null,
            "justify_content": null,
            "justify_items": null,
            "left": null,
            "margin": null,
            "max_height": null,
            "max_width": null,
            "min_height": null,
            "min_width": null,
            "object_fit": null,
            "object_position": null,
            "order": null,
            "overflow": null,
            "overflow_x": null,
            "overflow_y": null,
            "padding": null,
            "right": null,
            "top": null,
            "visibility": null,
            "width": null
          }
        },
        "311e176bd81743f189f8d5666d070821": {
          "model_module": "@jupyter-widgets/controls",
          "model_name": "DescriptionStyleModel",
          "model_module_version": "1.5.0",
          "state": {
            "_model_module": "@jupyter-widgets/controls",
            "_model_module_version": "1.5.0",
            "_model_name": "DescriptionStyleModel",
            "_view_count": null,
            "_view_module": "@jupyter-widgets/base",
            "_view_module_version": "1.2.0",
            "_view_name": "StyleView",
            "description_width": ""
          }
        },
        "c7b7a4a009454e05a19f8263187c2b12": {
          "model_module": "@jupyter-widgets/base",
          "model_name": "LayoutModel",
          "model_module_version": "1.2.0",
          "state": {
            "_model_module": "@jupyter-widgets/base",
            "_model_module_version": "1.2.0",
            "_model_name": "LayoutModel",
            "_view_count": null,
            "_view_module": "@jupyter-widgets/base",
            "_view_module_version": "1.2.0",
            "_view_name": "LayoutView",
            "align_content": null,
            "align_items": null,
            "align_self": null,
            "border": null,
            "bottom": null,
            "display": null,
            "flex": null,
            "flex_flow": null,
            "grid_area": null,
            "grid_auto_columns": null,
            "grid_auto_flow": null,
            "grid_auto_rows": null,
            "grid_column": null,
            "grid_gap": null,
            "grid_row": null,
            "grid_template_areas": null,
            "grid_template_columns": null,
            "grid_template_rows": null,
            "height": null,
            "justify_content": null,
            "justify_items": null,
            "left": null,
            "margin": null,
            "max_height": null,
            "max_width": null,
            "min_height": null,
            "min_width": null,
            "object_fit": null,
            "object_position": null,
            "order": null,
            "overflow": null,
            "overflow_x": null,
            "overflow_y": null,
            "padding": null,
            "right": null,
            "top": null,
            "visibility": null,
            "width": null
          }
        },
        "538336749592499c9b731f89fd882546": {
          "model_module": "@jupyter-widgets/controls",
          "model_name": "ProgressStyleModel",
          "model_module_version": "1.5.0",
          "state": {
            "_model_module": "@jupyter-widgets/controls",
            "_model_module_version": "1.5.0",
            "_model_name": "ProgressStyleModel",
            "_view_count": null,
            "_view_module": "@jupyter-widgets/base",
            "_view_module_version": "1.2.0",
            "_view_name": "StyleView",
            "bar_color": null,
            "description_width": ""
          }
        },
        "56d34aa93a61436dac919ab5477c2dc9": {
          "model_module": "@jupyter-widgets/base",
          "model_name": "LayoutModel",
          "model_module_version": "1.2.0",
          "state": {
            "_model_module": "@jupyter-widgets/base",
            "_model_module_version": "1.2.0",
            "_model_name": "LayoutModel",
            "_view_count": null,
            "_view_module": "@jupyter-widgets/base",
            "_view_module_version": "1.2.0",
            "_view_name": "LayoutView",
            "align_content": null,
            "align_items": null,
            "align_self": null,
            "border": null,
            "bottom": null,
            "display": null,
            "flex": null,
            "flex_flow": null,
            "grid_area": null,
            "grid_auto_columns": null,
            "grid_auto_flow": null,
            "grid_auto_rows": null,
            "grid_column": null,
            "grid_gap": null,
            "grid_row": null,
            "grid_template_areas": null,
            "grid_template_columns": null,
            "grid_template_rows": null,
            "height": null,
            "justify_content": null,
            "justify_items": null,
            "left": null,
            "margin": null,
            "max_height": null,
            "max_width": null,
            "min_height": null,
            "min_width": null,
            "object_fit": null,
            "object_position": null,
            "order": null,
            "overflow": null,
            "overflow_x": null,
            "overflow_y": null,
            "padding": null,
            "right": null,
            "top": null,
            "visibility": null,
            "width": null
          }
        },
        "76655ad415b84ed1ad975b2983ccaa32": {
          "model_module": "@jupyter-widgets/controls",
          "model_name": "DescriptionStyleModel",
          "model_module_version": "1.5.0",
          "state": {
            "_model_module": "@jupyter-widgets/controls",
            "_model_module_version": "1.5.0",
            "_model_name": "DescriptionStyleModel",
            "_view_count": null,
            "_view_module": "@jupyter-widgets/base",
            "_view_module_version": "1.2.0",
            "_view_name": "StyleView",
            "description_width": ""
          }
        },
        "b0ce3e7347054ece8d9a57e987041c5f": {
          "model_module": "@jupyter-widgets/controls",
          "model_name": "HBoxModel",
          "model_module_version": "1.5.0",
          "state": {
            "_dom_classes": [],
            "_model_module": "@jupyter-widgets/controls",
            "_model_module_version": "1.5.0",
            "_model_name": "HBoxModel",
            "_view_count": null,
            "_view_module": "@jupyter-widgets/controls",
            "_view_module_version": "1.5.0",
            "_view_name": "HBoxView",
            "box_style": "",
            "children": [
              "IPY_MODEL_97d3de57e39649c0b001c31b6eb9ba1d",
              "IPY_MODEL_1da4424baf724fb38ca29c154edc2b66",
              "IPY_MODEL_49725bb22c1c4330b8d208c26c2a4bc5"
            ],
            "layout": "IPY_MODEL_391191c340044c10b6b1b8549363e79f"
          }
        },
        "97d3de57e39649c0b001c31b6eb9ba1d": {
          "model_module": "@jupyter-widgets/controls",
          "model_name": "HTMLModel",
          "model_module_version": "1.5.0",
          "state": {
            "_dom_classes": [],
            "_model_module": "@jupyter-widgets/controls",
            "_model_module_version": "1.5.0",
            "_model_name": "HTMLModel",
            "_view_count": null,
            "_view_module": "@jupyter-widgets/controls",
            "_view_module_version": "1.5.0",
            "_view_name": "HTMLView",
            "description": "",
            "description_tooltip": null,
            "layout": "IPY_MODEL_95eb1f69724b48c7b7370c6061cef511",
            "placeholder": "​",
            "style": "IPY_MODEL_2362be0e7dd5460fb1024620c11db77d",
            "value": "vocab.txt: 100%"
          }
        },
        "1da4424baf724fb38ca29c154edc2b66": {
          "model_module": "@jupyter-widgets/controls",
          "model_name": "FloatProgressModel",
          "model_module_version": "1.5.0",
          "state": {
            "_dom_classes": [],
            "_model_module": "@jupyter-widgets/controls",
            "_model_module_version": "1.5.0",
            "_model_name": "FloatProgressModel",
            "_view_count": null,
            "_view_module": "@jupyter-widgets/controls",
            "_view_module_version": "1.5.0",
            "_view_name": "ProgressView",
            "bar_style": "success",
            "description": "",
            "description_tooltip": null,
            "layout": "IPY_MODEL_5abc42cd4e1f4fb2b5b94cdd56c3fa78",
            "max": 231508,
            "min": 0,
            "orientation": "horizontal",
            "style": "IPY_MODEL_01a108da4faf48229eae320879917586",
            "value": 231508
          }
        },
        "49725bb22c1c4330b8d208c26c2a4bc5": {
          "model_module": "@jupyter-widgets/controls",
          "model_name": "HTMLModel",
          "model_module_version": "1.5.0",
          "state": {
            "_dom_classes": [],
            "_model_module": "@jupyter-widgets/controls",
            "_model_module_version": "1.5.0",
            "_model_name": "HTMLModel",
            "_view_count": null,
            "_view_module": "@jupyter-widgets/controls",
            "_view_module_version": "1.5.0",
            "_view_name": "HTMLView",
            "description": "",
            "description_tooltip": null,
            "layout": "IPY_MODEL_3bfb3d066a8e42968c18c0d51791ac37",
            "placeholder": "​",
            "style": "IPY_MODEL_21ae596f05044f77bb1bac589af81a8a",
            "value": " 232k/232k [00:00&lt;00:00, 2.67MB/s]"
          }
        },
        "391191c340044c10b6b1b8549363e79f": {
          "model_module": "@jupyter-widgets/base",
          "model_name": "LayoutModel",
          "model_module_version": "1.2.0",
          "state": {
            "_model_module": "@jupyter-widgets/base",
            "_model_module_version": "1.2.0",
            "_model_name": "LayoutModel",
            "_view_count": null,
            "_view_module": "@jupyter-widgets/base",
            "_view_module_version": "1.2.0",
            "_view_name": "LayoutView",
            "align_content": null,
            "align_items": null,
            "align_self": null,
            "border": null,
            "bottom": null,
            "display": null,
            "flex": null,
            "flex_flow": null,
            "grid_area": null,
            "grid_auto_columns": null,
            "grid_auto_flow": null,
            "grid_auto_rows": null,
            "grid_column": null,
            "grid_gap": null,
            "grid_row": null,
            "grid_template_areas": null,
            "grid_template_columns": null,
            "grid_template_rows": null,
            "height": null,
            "justify_content": null,
            "justify_items": null,
            "left": null,
            "margin": null,
            "max_height": null,
            "max_width": null,
            "min_height": null,
            "min_width": null,
            "object_fit": null,
            "object_position": null,
            "order": null,
            "overflow": null,
            "overflow_x": null,
            "overflow_y": null,
            "padding": null,
            "right": null,
            "top": null,
            "visibility": null,
            "width": null
          }
        },
        "95eb1f69724b48c7b7370c6061cef511": {
          "model_module": "@jupyter-widgets/base",
          "model_name": "LayoutModel",
          "model_module_version": "1.2.0",
          "state": {
            "_model_module": "@jupyter-widgets/base",
            "_model_module_version": "1.2.0",
            "_model_name": "LayoutModel",
            "_view_count": null,
            "_view_module": "@jupyter-widgets/base",
            "_view_module_version": "1.2.0",
            "_view_name": "LayoutView",
            "align_content": null,
            "align_items": null,
            "align_self": null,
            "border": null,
            "bottom": null,
            "display": null,
            "flex": null,
            "flex_flow": null,
            "grid_area": null,
            "grid_auto_columns": null,
            "grid_auto_flow": null,
            "grid_auto_rows": null,
            "grid_column": null,
            "grid_gap": null,
            "grid_row": null,
            "grid_template_areas": null,
            "grid_template_columns": null,
            "grid_template_rows": null,
            "height": null,
            "justify_content": null,
            "justify_items": null,
            "left": null,
            "margin": null,
            "max_height": null,
            "max_width": null,
            "min_height": null,
            "min_width": null,
            "object_fit": null,
            "object_position": null,
            "order": null,
            "overflow": null,
            "overflow_x": null,
            "overflow_y": null,
            "padding": null,
            "right": null,
            "top": null,
            "visibility": null,
            "width": null
          }
        },
        "2362be0e7dd5460fb1024620c11db77d": {
          "model_module": "@jupyter-widgets/controls",
          "model_name": "DescriptionStyleModel",
          "model_module_version": "1.5.0",
          "state": {
            "_model_module": "@jupyter-widgets/controls",
            "_model_module_version": "1.5.0",
            "_model_name": "DescriptionStyleModel",
            "_view_count": null,
            "_view_module": "@jupyter-widgets/base",
            "_view_module_version": "1.2.0",
            "_view_name": "StyleView",
            "description_width": ""
          }
        },
        "5abc42cd4e1f4fb2b5b94cdd56c3fa78": {
          "model_module": "@jupyter-widgets/base",
          "model_name": "LayoutModel",
          "model_module_version": "1.2.0",
          "state": {
            "_model_module": "@jupyter-widgets/base",
            "_model_module_version": "1.2.0",
            "_model_name": "LayoutModel",
            "_view_count": null,
            "_view_module": "@jupyter-widgets/base",
            "_view_module_version": "1.2.0",
            "_view_name": "LayoutView",
            "align_content": null,
            "align_items": null,
            "align_self": null,
            "border": null,
            "bottom": null,
            "display": null,
            "flex": null,
            "flex_flow": null,
            "grid_area": null,
            "grid_auto_columns": null,
            "grid_auto_flow": null,
            "grid_auto_rows": null,
            "grid_column": null,
            "grid_gap": null,
            "grid_row": null,
            "grid_template_areas": null,
            "grid_template_columns": null,
            "grid_template_rows": null,
            "height": null,
            "justify_content": null,
            "justify_items": null,
            "left": null,
            "margin": null,
            "max_height": null,
            "max_width": null,
            "min_height": null,
            "min_width": null,
            "object_fit": null,
            "object_position": null,
            "order": null,
            "overflow": null,
            "overflow_x": null,
            "overflow_y": null,
            "padding": null,
            "right": null,
            "top": null,
            "visibility": null,
            "width": null
          }
        },
        "01a108da4faf48229eae320879917586": {
          "model_module": "@jupyter-widgets/controls",
          "model_name": "ProgressStyleModel",
          "model_module_version": "1.5.0",
          "state": {
            "_model_module": "@jupyter-widgets/controls",
            "_model_module_version": "1.5.0",
            "_model_name": "ProgressStyleModel",
            "_view_count": null,
            "_view_module": "@jupyter-widgets/base",
            "_view_module_version": "1.2.0",
            "_view_name": "StyleView",
            "bar_color": null,
            "description_width": ""
          }
        },
        "3bfb3d066a8e42968c18c0d51791ac37": {
          "model_module": "@jupyter-widgets/base",
          "model_name": "LayoutModel",
          "model_module_version": "1.2.0",
          "state": {
            "_model_module": "@jupyter-widgets/base",
            "_model_module_version": "1.2.0",
            "_model_name": "LayoutModel",
            "_view_count": null,
            "_view_module": "@jupyter-widgets/base",
            "_view_module_version": "1.2.0",
            "_view_name": "LayoutView",
            "align_content": null,
            "align_items": null,
            "align_self": null,
            "border": null,
            "bottom": null,
            "display": null,
            "flex": null,
            "flex_flow": null,
            "grid_area": null,
            "grid_auto_columns": null,
            "grid_auto_flow": null,
            "grid_auto_rows": null,
            "grid_column": null,
            "grid_gap": null,
            "grid_row": null,
            "grid_template_areas": null,
            "grid_template_columns": null,
            "grid_template_rows": null,
            "height": null,
            "justify_content": null,
            "justify_items": null,
            "left": null,
            "margin": null,
            "max_height": null,
            "max_width": null,
            "min_height": null,
            "min_width": null,
            "object_fit": null,
            "object_position": null,
            "order": null,
            "overflow": null,
            "overflow_x": null,
            "overflow_y": null,
            "padding": null,
            "right": null,
            "top": null,
            "visibility": null,
            "width": null
          }
        },
        "21ae596f05044f77bb1bac589af81a8a": {
          "model_module": "@jupyter-widgets/controls",
          "model_name": "DescriptionStyleModel",
          "model_module_version": "1.5.0",
          "state": {
            "_model_module": "@jupyter-widgets/controls",
            "_model_module_version": "1.5.0",
            "_model_name": "DescriptionStyleModel",
            "_view_count": null,
            "_view_module": "@jupyter-widgets/base",
            "_view_module_version": "1.2.0",
            "_view_name": "StyleView",
            "description_width": ""
          }
        },
        "c7bcfe7a11e94b58b1bfbc15f0832859": {
          "model_module": "@jupyter-widgets/controls",
          "model_name": "HBoxModel",
          "model_module_version": "1.5.0",
          "state": {
            "_dom_classes": [],
            "_model_module": "@jupyter-widgets/controls",
            "_model_module_version": "1.5.0",
            "_model_name": "HBoxModel",
            "_view_count": null,
            "_view_module": "@jupyter-widgets/controls",
            "_view_module_version": "1.5.0",
            "_view_name": "HBoxView",
            "box_style": "",
            "children": [
              "IPY_MODEL_f6da5b23896f4cdfb7e9a3e5bc1a44ec",
              "IPY_MODEL_16c57aa38de64a45bab7cca97b447650",
              "IPY_MODEL_a07758d1c1b84010afd9dbf780970983"
            ],
            "layout": "IPY_MODEL_3aeed4f884b246d6a11c18d60279c055"
          }
        },
        "f6da5b23896f4cdfb7e9a3e5bc1a44ec": {
          "model_module": "@jupyter-widgets/controls",
          "model_name": "HTMLModel",
          "model_module_version": "1.5.0",
          "state": {
            "_dom_classes": [],
            "_model_module": "@jupyter-widgets/controls",
            "_model_module_version": "1.5.0",
            "_model_name": "HTMLModel",
            "_view_count": null,
            "_view_module": "@jupyter-widgets/controls",
            "_view_module_version": "1.5.0",
            "_view_name": "HTMLView",
            "description": "",
            "description_tooltip": null,
            "layout": "IPY_MODEL_4ea6695780534b16a3f22b39d754f165",
            "placeholder": "​",
            "style": "IPY_MODEL_6e79c44f03f3423e8306888d37086d2c",
            "value": "tokenizer.json: 100%"
          }
        },
        "16c57aa38de64a45bab7cca97b447650": {
          "model_module": "@jupyter-widgets/controls",
          "model_name": "FloatProgressModel",
          "model_module_version": "1.5.0",
          "state": {
            "_dom_classes": [],
            "_model_module": "@jupyter-widgets/controls",
            "_model_module_version": "1.5.0",
            "_model_name": "FloatProgressModel",
            "_view_count": null,
            "_view_module": "@jupyter-widgets/controls",
            "_view_module_version": "1.5.0",
            "_view_name": "ProgressView",
            "bar_style": "success",
            "description": "",
            "description_tooltip": null,
            "layout": "IPY_MODEL_c0f52dae30054f8a91d0053c1c2ffec4",
            "max": 466247,
            "min": 0,
            "orientation": "horizontal",
            "style": "IPY_MODEL_e4bc832bc6264d388bcc445d36534105",
            "value": 466247
          }
        },
        "a07758d1c1b84010afd9dbf780970983": {
          "model_module": "@jupyter-widgets/controls",
          "model_name": "HTMLModel",
          "model_module_version": "1.5.0",
          "state": {
            "_dom_classes": [],
            "_model_module": "@jupyter-widgets/controls",
            "_model_module_version": "1.5.0",
            "_model_name": "HTMLModel",
            "_view_count": null,
            "_view_module": "@jupyter-widgets/controls",
            "_view_module_version": "1.5.0",
            "_view_name": "HTMLView",
            "description": "",
            "description_tooltip": null,
            "layout": "IPY_MODEL_583dbd77cf8c4f688dea138c29d3d1c0",
            "placeholder": "​",
            "style": "IPY_MODEL_1a822bdbd6f045b5a9099c9571bc2e1e",
            "value": " 466k/466k [00:00&lt;00:00, 15.9MB/s]"
          }
        },
        "3aeed4f884b246d6a11c18d60279c055": {
          "model_module": "@jupyter-widgets/base",
          "model_name": "LayoutModel",
          "model_module_version": "1.2.0",
          "state": {
            "_model_module": "@jupyter-widgets/base",
            "_model_module_version": "1.2.0",
            "_model_name": "LayoutModel",
            "_view_count": null,
            "_view_module": "@jupyter-widgets/base",
            "_view_module_version": "1.2.0",
            "_view_name": "LayoutView",
            "align_content": null,
            "align_items": null,
            "align_self": null,
            "border": null,
            "bottom": null,
            "display": null,
            "flex": null,
            "flex_flow": null,
            "grid_area": null,
            "grid_auto_columns": null,
            "grid_auto_flow": null,
            "grid_auto_rows": null,
            "grid_column": null,
            "grid_gap": null,
            "grid_row": null,
            "grid_template_areas": null,
            "grid_template_columns": null,
            "grid_template_rows": null,
            "height": null,
            "justify_content": null,
            "justify_items": null,
            "left": null,
            "margin": null,
            "max_height": null,
            "max_width": null,
            "min_height": null,
            "min_width": null,
            "object_fit": null,
            "object_position": null,
            "order": null,
            "overflow": null,
            "overflow_x": null,
            "overflow_y": null,
            "padding": null,
            "right": null,
            "top": null,
            "visibility": null,
            "width": null
          }
        },
        "4ea6695780534b16a3f22b39d754f165": {
          "model_module": "@jupyter-widgets/base",
          "model_name": "LayoutModel",
          "model_module_version": "1.2.0",
          "state": {
            "_model_module": "@jupyter-widgets/base",
            "_model_module_version": "1.2.0",
            "_model_name": "LayoutModel",
            "_view_count": null,
            "_view_module": "@jupyter-widgets/base",
            "_view_module_version": "1.2.0",
            "_view_name": "LayoutView",
            "align_content": null,
            "align_items": null,
            "align_self": null,
            "border": null,
            "bottom": null,
            "display": null,
            "flex": null,
            "flex_flow": null,
            "grid_area": null,
            "grid_auto_columns": null,
            "grid_auto_flow": null,
            "grid_auto_rows": null,
            "grid_column": null,
            "grid_gap": null,
            "grid_row": null,
            "grid_template_areas": null,
            "grid_template_columns": null,
            "grid_template_rows": null,
            "height": null,
            "justify_content": null,
            "justify_items": null,
            "left": null,
            "margin": null,
            "max_height": null,
            "max_width": null,
            "min_height": null,
            "min_width": null,
            "object_fit": null,
            "object_position": null,
            "order": null,
            "overflow": null,
            "overflow_x": null,
            "overflow_y": null,
            "padding": null,
            "right": null,
            "top": null,
            "visibility": null,
            "width": null
          }
        },
        "6e79c44f03f3423e8306888d37086d2c": {
          "model_module": "@jupyter-widgets/controls",
          "model_name": "DescriptionStyleModel",
          "model_module_version": "1.5.0",
          "state": {
            "_model_module": "@jupyter-widgets/controls",
            "_model_module_version": "1.5.0",
            "_model_name": "DescriptionStyleModel",
            "_view_count": null,
            "_view_module": "@jupyter-widgets/base",
            "_view_module_version": "1.2.0",
            "_view_name": "StyleView",
            "description_width": ""
          }
        },
        "c0f52dae30054f8a91d0053c1c2ffec4": {
          "model_module": "@jupyter-widgets/base",
          "model_name": "LayoutModel",
          "model_module_version": "1.2.0",
          "state": {
            "_model_module": "@jupyter-widgets/base",
            "_model_module_version": "1.2.0",
            "_model_name": "LayoutModel",
            "_view_count": null,
            "_view_module": "@jupyter-widgets/base",
            "_view_module_version": "1.2.0",
            "_view_name": "LayoutView",
            "align_content": null,
            "align_items": null,
            "align_self": null,
            "border": null,
            "bottom": null,
            "display": null,
            "flex": null,
            "flex_flow": null,
            "grid_area": null,
            "grid_auto_columns": null,
            "grid_auto_flow": null,
            "grid_auto_rows": null,
            "grid_column": null,
            "grid_gap": null,
            "grid_row": null,
            "grid_template_areas": null,
            "grid_template_columns": null,
            "grid_template_rows": null,
            "height": null,
            "justify_content": null,
            "justify_items": null,
            "left": null,
            "margin": null,
            "max_height": null,
            "max_width": null,
            "min_height": null,
            "min_width": null,
            "object_fit": null,
            "object_position": null,
            "order": null,
            "overflow": null,
            "overflow_x": null,
            "overflow_y": null,
            "padding": null,
            "right": null,
            "top": null,
            "visibility": null,
            "width": null
          }
        },
        "e4bc832bc6264d388bcc445d36534105": {
          "model_module": "@jupyter-widgets/controls",
          "model_name": "ProgressStyleModel",
          "model_module_version": "1.5.0",
          "state": {
            "_model_module": "@jupyter-widgets/controls",
            "_model_module_version": "1.5.0",
            "_model_name": "ProgressStyleModel",
            "_view_count": null,
            "_view_module": "@jupyter-widgets/base",
            "_view_module_version": "1.2.0",
            "_view_name": "StyleView",
            "bar_color": null,
            "description_width": ""
          }
        },
        "583dbd77cf8c4f688dea138c29d3d1c0": {
          "model_module": "@jupyter-widgets/base",
          "model_name": "LayoutModel",
          "model_module_version": "1.2.0",
          "state": {
            "_model_module": "@jupyter-widgets/base",
            "_model_module_version": "1.2.0",
            "_model_name": "LayoutModel",
            "_view_count": null,
            "_view_module": "@jupyter-widgets/base",
            "_view_module_version": "1.2.0",
            "_view_name": "LayoutView",
            "align_content": null,
            "align_items": null,
            "align_self": null,
            "border": null,
            "bottom": null,
            "display": null,
            "flex": null,
            "flex_flow": null,
            "grid_area": null,
            "grid_auto_columns": null,
            "grid_auto_flow": null,
            "grid_auto_rows": null,
            "grid_column": null,
            "grid_gap": null,
            "grid_row": null,
            "grid_template_areas": null,
            "grid_template_columns": null,
            "grid_template_rows": null,
            "height": null,
            "justify_content": null,
            "justify_items": null,
            "left": null,
            "margin": null,
            "max_height": null,
            "max_width": null,
            "min_height": null,
            "min_width": null,
            "object_fit": null,
            "object_position": null,
            "order": null,
            "overflow": null,
            "overflow_x": null,
            "overflow_y": null,
            "padding": null,
            "right": null,
            "top": null,
            "visibility": null,
            "width": null
          }
        },
        "1a822bdbd6f045b5a9099c9571bc2e1e": {
          "model_module": "@jupyter-widgets/controls",
          "model_name": "DescriptionStyleModel",
          "model_module_version": "1.5.0",
          "state": {
            "_model_module": "@jupyter-widgets/controls",
            "_model_module_version": "1.5.0",
            "_model_name": "DescriptionStyleModel",
            "_view_count": null,
            "_view_module": "@jupyter-widgets/base",
            "_view_module_version": "1.2.0",
            "_view_name": "StyleView",
            "description_width": ""
          }
        },
        "056453b73f424d50bbce4fd24f71afaf": {
          "model_module": "@jupyter-widgets/controls",
          "model_name": "HBoxModel",
          "model_module_version": "1.5.0",
          "state": {
            "_dom_classes": [],
            "_model_module": "@jupyter-widgets/controls",
            "_model_module_version": "1.5.0",
            "_model_name": "HBoxModel",
            "_view_count": null,
            "_view_module": "@jupyter-widgets/controls",
            "_view_module_version": "1.5.0",
            "_view_name": "HBoxView",
            "box_style": "",
            "children": [
              "IPY_MODEL_6370df3695ef452b98ca9613add5fee4",
              "IPY_MODEL_0437a5c9ca6747ddbe874b782ebdb93f",
              "IPY_MODEL_bbe1c0aef2d045118e1798dd3c067727"
            ],
            "layout": "IPY_MODEL_6ccc625956f045b699d210941b87ab0d"
          }
        },
        "6370df3695ef452b98ca9613add5fee4": {
          "model_module": "@jupyter-widgets/controls",
          "model_name": "HTMLModel",
          "model_module_version": "1.5.0",
          "state": {
            "_dom_classes": [],
            "_model_module": "@jupyter-widgets/controls",
            "_model_module_version": "1.5.0",
            "_model_name": "HTMLModel",
            "_view_count": null,
            "_view_module": "@jupyter-widgets/controls",
            "_view_module_version": "1.5.0",
            "_view_name": "HTMLView",
            "description": "",
            "description_tooltip": null,
            "layout": "IPY_MODEL_ac36945f0561428299a13b3c47da0a11",
            "placeholder": "​",
            "style": "IPY_MODEL_8e71e37ae45d48c9898f94578ff83c27",
            "value": "special_tokens_map.json: 100%"
          }
        },
        "0437a5c9ca6747ddbe874b782ebdb93f": {
          "model_module": "@jupyter-widgets/controls",
          "model_name": "FloatProgressModel",
          "model_module_version": "1.5.0",
          "state": {
            "_dom_classes": [],
            "_model_module": "@jupyter-widgets/controls",
            "_model_module_version": "1.5.0",
            "_model_name": "FloatProgressModel",
            "_view_count": null,
            "_view_module": "@jupyter-widgets/controls",
            "_view_module_version": "1.5.0",
            "_view_name": "ProgressView",
            "bar_style": "success",
            "description": "",
            "description_tooltip": null,
            "layout": "IPY_MODEL_01de460e5abc43f482afe45290092caf",
            "max": 112,
            "min": 0,
            "orientation": "horizontal",
            "style": "IPY_MODEL_32baa72064f04b3fbbf189dddd3c9ae5",
            "value": 112
          }
        },
        "bbe1c0aef2d045118e1798dd3c067727": {
          "model_module": "@jupyter-widgets/controls",
          "model_name": "HTMLModel",
          "model_module_version": "1.5.0",
          "state": {
            "_dom_classes": [],
            "_model_module": "@jupyter-widgets/controls",
            "_model_module_version": "1.5.0",
            "_model_name": "HTMLModel",
            "_view_count": null,
            "_view_module": "@jupyter-widgets/controls",
            "_view_module_version": "1.5.0",
            "_view_name": "HTMLView",
            "description": "",
            "description_tooltip": null,
            "layout": "IPY_MODEL_2a0fc8666a0142c3920584ef22785af2",
            "placeholder": "​",
            "style": "IPY_MODEL_cf44ad337a5041beb7811bb3cbd92b03",
            "value": " 112/112 [00:00&lt;00:00, 8.93kB/s]"
          }
        },
        "6ccc625956f045b699d210941b87ab0d": {
          "model_module": "@jupyter-widgets/base",
          "model_name": "LayoutModel",
          "model_module_version": "1.2.0",
          "state": {
            "_model_module": "@jupyter-widgets/base",
            "_model_module_version": "1.2.0",
            "_model_name": "LayoutModel",
            "_view_count": null,
            "_view_module": "@jupyter-widgets/base",
            "_view_module_version": "1.2.0",
            "_view_name": "LayoutView",
            "align_content": null,
            "align_items": null,
            "align_self": null,
            "border": null,
            "bottom": null,
            "display": null,
            "flex": null,
            "flex_flow": null,
            "grid_area": null,
            "grid_auto_columns": null,
            "grid_auto_flow": null,
            "grid_auto_rows": null,
            "grid_column": null,
            "grid_gap": null,
            "grid_row": null,
            "grid_template_areas": null,
            "grid_template_columns": null,
            "grid_template_rows": null,
            "height": null,
            "justify_content": null,
            "justify_items": null,
            "left": null,
            "margin": null,
            "max_height": null,
            "max_width": null,
            "min_height": null,
            "min_width": null,
            "object_fit": null,
            "object_position": null,
            "order": null,
            "overflow": null,
            "overflow_x": null,
            "overflow_y": null,
            "padding": null,
            "right": null,
            "top": null,
            "visibility": null,
            "width": null
          }
        },
        "ac36945f0561428299a13b3c47da0a11": {
          "model_module": "@jupyter-widgets/base",
          "model_name": "LayoutModel",
          "model_module_version": "1.2.0",
          "state": {
            "_model_module": "@jupyter-widgets/base",
            "_model_module_version": "1.2.0",
            "_model_name": "LayoutModel",
            "_view_count": null,
            "_view_module": "@jupyter-widgets/base",
            "_view_module_version": "1.2.0",
            "_view_name": "LayoutView",
            "align_content": null,
            "align_items": null,
            "align_self": null,
            "border": null,
            "bottom": null,
            "display": null,
            "flex": null,
            "flex_flow": null,
            "grid_area": null,
            "grid_auto_columns": null,
            "grid_auto_flow": null,
            "grid_auto_rows": null,
            "grid_column": null,
            "grid_gap": null,
            "grid_row": null,
            "grid_template_areas": null,
            "grid_template_columns": null,
            "grid_template_rows": null,
            "height": null,
            "justify_content": null,
            "justify_items": null,
            "left": null,
            "margin": null,
            "max_height": null,
            "max_width": null,
            "min_height": null,
            "min_width": null,
            "object_fit": null,
            "object_position": null,
            "order": null,
            "overflow": null,
            "overflow_x": null,
            "overflow_y": null,
            "padding": null,
            "right": null,
            "top": null,
            "visibility": null,
            "width": null
          }
        },
        "8e71e37ae45d48c9898f94578ff83c27": {
          "model_module": "@jupyter-widgets/controls",
          "model_name": "DescriptionStyleModel",
          "model_module_version": "1.5.0",
          "state": {
            "_model_module": "@jupyter-widgets/controls",
            "_model_module_version": "1.5.0",
            "_model_name": "DescriptionStyleModel",
            "_view_count": null,
            "_view_module": "@jupyter-widgets/base",
            "_view_module_version": "1.2.0",
            "_view_name": "StyleView",
            "description_width": ""
          }
        },
        "01de460e5abc43f482afe45290092caf": {
          "model_module": "@jupyter-widgets/base",
          "model_name": "LayoutModel",
          "model_module_version": "1.2.0",
          "state": {
            "_model_module": "@jupyter-widgets/base",
            "_model_module_version": "1.2.0",
            "_model_name": "LayoutModel",
            "_view_count": null,
            "_view_module": "@jupyter-widgets/base",
            "_view_module_version": "1.2.0",
            "_view_name": "LayoutView",
            "align_content": null,
            "align_items": null,
            "align_self": null,
            "border": null,
            "bottom": null,
            "display": null,
            "flex": null,
            "flex_flow": null,
            "grid_area": null,
            "grid_auto_columns": null,
            "grid_auto_flow": null,
            "grid_auto_rows": null,
            "grid_column": null,
            "grid_gap": null,
            "grid_row": null,
            "grid_template_areas": null,
            "grid_template_columns": null,
            "grid_template_rows": null,
            "height": null,
            "justify_content": null,
            "justify_items": null,
            "left": null,
            "margin": null,
            "max_height": null,
            "max_width": null,
            "min_height": null,
            "min_width": null,
            "object_fit": null,
            "object_position": null,
            "order": null,
            "overflow": null,
            "overflow_x": null,
            "overflow_y": null,
            "padding": null,
            "right": null,
            "top": null,
            "visibility": null,
            "width": null
          }
        },
        "32baa72064f04b3fbbf189dddd3c9ae5": {
          "model_module": "@jupyter-widgets/controls",
          "model_name": "ProgressStyleModel",
          "model_module_version": "1.5.0",
          "state": {
            "_model_module": "@jupyter-widgets/controls",
            "_model_module_version": "1.5.0",
            "_model_name": "ProgressStyleModel",
            "_view_count": null,
            "_view_module": "@jupyter-widgets/base",
            "_view_module_version": "1.2.0",
            "_view_name": "StyleView",
            "bar_color": null,
            "description_width": ""
          }
        },
        "2a0fc8666a0142c3920584ef22785af2": {
          "model_module": "@jupyter-widgets/base",
          "model_name": "LayoutModel",
          "model_module_version": "1.2.0",
          "state": {
            "_model_module": "@jupyter-widgets/base",
            "_model_module_version": "1.2.0",
            "_model_name": "LayoutModel",
            "_view_count": null,
            "_view_module": "@jupyter-widgets/base",
            "_view_module_version": "1.2.0",
            "_view_name": "LayoutView",
            "align_content": null,
            "align_items": null,
            "align_self": null,
            "border": null,
            "bottom": null,
            "display": null,
            "flex": null,
            "flex_flow": null,
            "grid_area": null,
            "grid_auto_columns": null,
            "grid_auto_flow": null,
            "grid_auto_rows": null,
            "grid_column": null,
            "grid_gap": null,
            "grid_row": null,
            "grid_template_areas": null,
            "grid_template_columns": null,
            "grid_template_rows": null,
            "height": null,
            "justify_content": null,
            "justify_items": null,
            "left": null,
            "margin": null,
            "max_height": null,
            "max_width": null,
            "min_height": null,
            "min_width": null,
            "object_fit": null,
            "object_position": null,
            "order": null,
            "overflow": null,
            "overflow_x": null,
            "overflow_y": null,
            "padding": null,
            "right": null,
            "top": null,
            "visibility": null,
            "width": null
          }
        },
        "cf44ad337a5041beb7811bb3cbd92b03": {
          "model_module": "@jupyter-widgets/controls",
          "model_name": "DescriptionStyleModel",
          "model_module_version": "1.5.0",
          "state": {
            "_model_module": "@jupyter-widgets/controls",
            "_model_module_version": "1.5.0",
            "_model_name": "DescriptionStyleModel",
            "_view_count": null,
            "_view_module": "@jupyter-widgets/base",
            "_view_module_version": "1.2.0",
            "_view_name": "StyleView",
            "description_width": ""
          }
        },
        "998aa4b93d314850a54c47fe55ad3e19": {
          "model_module": "@jupyter-widgets/controls",
          "model_name": "HBoxModel",
          "model_module_version": "1.5.0",
          "state": {
            "_dom_classes": [],
            "_model_module": "@jupyter-widgets/controls",
            "_model_module_version": "1.5.0",
            "_model_name": "HBoxModel",
            "_view_count": null,
            "_view_module": "@jupyter-widgets/controls",
            "_view_module_version": "1.5.0",
            "_view_name": "HBoxView",
            "box_style": "",
            "children": [
              "IPY_MODEL_07683c06a7184fb6a22afc9c5e6706f3",
              "IPY_MODEL_b7a92fdab7554fbf8d4f24ad2d1e5a78",
              "IPY_MODEL_f9f89193d4124f58b62e435570f4905b"
            ],
            "layout": "IPY_MODEL_604162ad6b1f4073b142593b3f78258f"
          }
        },
        "07683c06a7184fb6a22afc9c5e6706f3": {
          "model_module": "@jupyter-widgets/controls",
          "model_name": "HTMLModel",
          "model_module_version": "1.5.0",
          "state": {
            "_dom_classes": [],
            "_model_module": "@jupyter-widgets/controls",
            "_model_module_version": "1.5.0",
            "_model_name": "HTMLModel",
            "_view_count": null,
            "_view_module": "@jupyter-widgets/controls",
            "_view_module_version": "1.5.0",
            "_view_name": "HTMLView",
            "description": "",
            "description_tooltip": null,
            "layout": "IPY_MODEL_2424f828413241b199ffcaab8299e946",
            "placeholder": "​",
            "style": "IPY_MODEL_f5da74dcbc474e72b5d0643bae06dd6b",
            "value": "1_Pooling/config.json: 100%"
          }
        },
        "b7a92fdab7554fbf8d4f24ad2d1e5a78": {
          "model_module": "@jupyter-widgets/controls",
          "model_name": "FloatProgressModel",
          "model_module_version": "1.5.0",
          "state": {
            "_dom_classes": [],
            "_model_module": "@jupyter-widgets/controls",
            "_model_module_version": "1.5.0",
            "_model_name": "FloatProgressModel",
            "_view_count": null,
            "_view_module": "@jupyter-widgets/controls",
            "_view_module_version": "1.5.0",
            "_view_name": "ProgressView",
            "bar_style": "success",
            "description": "",
            "description_tooltip": null,
            "layout": "IPY_MODEL_13f9ea8526c34c4bae7ddb9713429af5",
            "max": 190,
            "min": 0,
            "orientation": "horizontal",
            "style": "IPY_MODEL_a8dc36dd3b8842bf84ceeb15efd9fe5b",
            "value": 190
          }
        },
        "f9f89193d4124f58b62e435570f4905b": {
          "model_module": "@jupyter-widgets/controls",
          "model_name": "HTMLModel",
          "model_module_version": "1.5.0",
          "state": {
            "_dom_classes": [],
            "_model_module": "@jupyter-widgets/controls",
            "_model_module_version": "1.5.0",
            "_model_name": "HTMLModel",
            "_view_count": null,
            "_view_module": "@jupyter-widgets/controls",
            "_view_module_version": "1.5.0",
            "_view_name": "HTMLView",
            "description": "",
            "description_tooltip": null,
            "layout": "IPY_MODEL_2f7140664f724d4c9f7c93b88ea54881",
            "placeholder": "​",
            "style": "IPY_MODEL_e71e7d21f4e140c29db3b7bd377b673b",
            "value": " 190/190 [00:00&lt;00:00, 8.19kB/s]"
          }
        },
        "604162ad6b1f4073b142593b3f78258f": {
          "model_module": "@jupyter-widgets/base",
          "model_name": "LayoutModel",
          "model_module_version": "1.2.0",
          "state": {
            "_model_module": "@jupyter-widgets/base",
            "_model_module_version": "1.2.0",
            "_model_name": "LayoutModel",
            "_view_count": null,
            "_view_module": "@jupyter-widgets/base",
            "_view_module_version": "1.2.0",
            "_view_name": "LayoutView",
            "align_content": null,
            "align_items": null,
            "align_self": null,
            "border": null,
            "bottom": null,
            "display": null,
            "flex": null,
            "flex_flow": null,
            "grid_area": null,
            "grid_auto_columns": null,
            "grid_auto_flow": null,
            "grid_auto_rows": null,
            "grid_column": null,
            "grid_gap": null,
            "grid_row": null,
            "grid_template_areas": null,
            "grid_template_columns": null,
            "grid_template_rows": null,
            "height": null,
            "justify_content": null,
            "justify_items": null,
            "left": null,
            "margin": null,
            "max_height": null,
            "max_width": null,
            "min_height": null,
            "min_width": null,
            "object_fit": null,
            "object_position": null,
            "order": null,
            "overflow": null,
            "overflow_x": null,
            "overflow_y": null,
            "padding": null,
            "right": null,
            "top": null,
            "visibility": null,
            "width": null
          }
        },
        "2424f828413241b199ffcaab8299e946": {
          "model_module": "@jupyter-widgets/base",
          "model_name": "LayoutModel",
          "model_module_version": "1.2.0",
          "state": {
            "_model_module": "@jupyter-widgets/base",
            "_model_module_version": "1.2.0",
            "_model_name": "LayoutModel",
            "_view_count": null,
            "_view_module": "@jupyter-widgets/base",
            "_view_module_version": "1.2.0",
            "_view_name": "LayoutView",
            "align_content": null,
            "align_items": null,
            "align_self": null,
            "border": null,
            "bottom": null,
            "display": null,
            "flex": null,
            "flex_flow": null,
            "grid_area": null,
            "grid_auto_columns": null,
            "grid_auto_flow": null,
            "grid_auto_rows": null,
            "grid_column": null,
            "grid_gap": null,
            "grid_row": null,
            "grid_template_areas": null,
            "grid_template_columns": null,
            "grid_template_rows": null,
            "height": null,
            "justify_content": null,
            "justify_items": null,
            "left": null,
            "margin": null,
            "max_height": null,
            "max_width": null,
            "min_height": null,
            "min_width": null,
            "object_fit": null,
            "object_position": null,
            "order": null,
            "overflow": null,
            "overflow_x": null,
            "overflow_y": null,
            "padding": null,
            "right": null,
            "top": null,
            "visibility": null,
            "width": null
          }
        },
        "f5da74dcbc474e72b5d0643bae06dd6b": {
          "model_module": "@jupyter-widgets/controls",
          "model_name": "DescriptionStyleModel",
          "model_module_version": "1.5.0",
          "state": {
            "_model_module": "@jupyter-widgets/controls",
            "_model_module_version": "1.5.0",
            "_model_name": "DescriptionStyleModel",
            "_view_count": null,
            "_view_module": "@jupyter-widgets/base",
            "_view_module_version": "1.2.0",
            "_view_name": "StyleView",
            "description_width": ""
          }
        },
        "13f9ea8526c34c4bae7ddb9713429af5": {
          "model_module": "@jupyter-widgets/base",
          "model_name": "LayoutModel",
          "model_module_version": "1.2.0",
          "state": {
            "_model_module": "@jupyter-widgets/base",
            "_model_module_version": "1.2.0",
            "_model_name": "LayoutModel",
            "_view_count": null,
            "_view_module": "@jupyter-widgets/base",
            "_view_module_version": "1.2.0",
            "_view_name": "LayoutView",
            "align_content": null,
            "align_items": null,
            "align_self": null,
            "border": null,
            "bottom": null,
            "display": null,
            "flex": null,
            "flex_flow": null,
            "grid_area": null,
            "grid_auto_columns": null,
            "grid_auto_flow": null,
            "grid_auto_rows": null,
            "grid_column": null,
            "grid_gap": null,
            "grid_row": null,
            "grid_template_areas": null,
            "grid_template_columns": null,
            "grid_template_rows": null,
            "height": null,
            "justify_content": null,
            "justify_items": null,
            "left": null,
            "margin": null,
            "max_height": null,
            "max_width": null,
            "min_height": null,
            "min_width": null,
            "object_fit": null,
            "object_position": null,
            "order": null,
            "overflow": null,
            "overflow_x": null,
            "overflow_y": null,
            "padding": null,
            "right": null,
            "top": null,
            "visibility": null,
            "width": null
          }
        },
        "a8dc36dd3b8842bf84ceeb15efd9fe5b": {
          "model_module": "@jupyter-widgets/controls",
          "model_name": "ProgressStyleModel",
          "model_module_version": "1.5.0",
          "state": {
            "_model_module": "@jupyter-widgets/controls",
            "_model_module_version": "1.5.0",
            "_model_name": "ProgressStyleModel",
            "_view_count": null,
            "_view_module": "@jupyter-widgets/base",
            "_view_module_version": "1.2.0",
            "_view_name": "StyleView",
            "bar_color": null,
            "description_width": ""
          }
        },
        "2f7140664f724d4c9f7c93b88ea54881": {
          "model_module": "@jupyter-widgets/base",
          "model_name": "LayoutModel",
          "model_module_version": "1.2.0",
          "state": {
            "_model_module": "@jupyter-widgets/base",
            "_model_module_version": "1.2.0",
            "_model_name": "LayoutModel",
            "_view_count": null,
            "_view_module": "@jupyter-widgets/base",
            "_view_module_version": "1.2.0",
            "_view_name": "LayoutView",
            "align_content": null,
            "align_items": null,
            "align_self": null,
            "border": null,
            "bottom": null,
            "display": null,
            "flex": null,
            "flex_flow": null,
            "grid_area": null,
            "grid_auto_columns": null,
            "grid_auto_flow": null,
            "grid_auto_rows": null,
            "grid_column": null,
            "grid_gap": null,
            "grid_row": null,
            "grid_template_areas": null,
            "grid_template_columns": null,
            "grid_template_rows": null,
            "height": null,
            "justify_content": null,
            "justify_items": null,
            "left": null,
            "margin": null,
            "max_height": null,
            "max_width": null,
            "min_height": null,
            "min_width": null,
            "object_fit": null,
            "object_position": null,
            "order": null,
            "overflow": null,
            "overflow_x": null,
            "overflow_y": null,
            "padding": null,
            "right": null,
            "top": null,
            "visibility": null,
            "width": null
          }
        },
        "e71e7d21f4e140c29db3b7bd377b673b": {
          "model_module": "@jupyter-widgets/controls",
          "model_name": "DescriptionStyleModel",
          "model_module_version": "1.5.0",
          "state": {
            "_model_module": "@jupyter-widgets/controls",
            "_model_module_version": "1.5.0",
            "_model_name": "DescriptionStyleModel",
            "_view_count": null,
            "_view_module": "@jupyter-widgets/base",
            "_view_module_version": "1.2.0",
            "_view_name": "StyleView",
            "description_width": ""
          }
        }
      }
    }
  },
  "cells": [
    {
      "cell_type": "code",
      "execution_count": null,
      "metadata": {
        "id": "_0kj1s9jdmmA",
        "colab": {
          "base_uri": "https://localhost:8080/"
        },
        "outputId": "e78db161-4c25-4ebc-8587-1f21b2d29f7c"
      },
      "outputs": [
        {
          "output_type": "stream",
          "name": "stdout",
          "text": [
            "Mounted at /content/drive\n"
          ]
        }
      ],
      "source": [
        "from google.colab import drive\n",
        "\n",
        "drive.mount('/content/drive', force_remount=True)"
      ]
    },
    {
      "cell_type": "code",
      "source": [
        "import sys\n",
        "sys.path.append('/content/drive/MyDrive/Colab Notebooks/Final_Project/py-files')"
      ],
      "metadata": {
        "id": "J1dXrxz5edxR"
      },
      "execution_count": null,
      "outputs": []
    },
    {
      "cell_type": "code",
      "source": [
        "%%bash\n",
        "pip install -qqq -U langchain-huggingface\n",
        "pip install -qqq -U langchain\n",
        "pip install -qqq -U langchain-community\n",
        "pip install -qqq -U faiss-cpu"
      ],
      "metadata": {
        "colab": {
          "base_uri": "https://localhost:8080/"
        },
        "id": "EFjdYFCzeh0m",
        "outputId": "2f08cf58-0bae-42dc-f228-3390ff8f4ac6"
      },
      "execution_count": null,
      "outputs": [
        {
          "output_type": "stream",
          "name": "stdout",
          "text": [
            "     ━━━━━━━━━━━━━━━━━━━━━━━━━━━━━━━━━━━━━━━━ 50.4/50.4 kB 876.1 kB/s eta 0:00:00\n",
            "   ━━━━━━━━━━━━━━━━━━━━━━━━━━━━━━━━━━━━━━━━ 379.9/379.9 kB 4.1 MB/s eta 0:00:00\n",
            "   ━━━━━━━━━━━━━━━━━━━━━━━━━━━━━━━━━━━━━━━━ 227.1/227.1 kB 12.4 MB/s eta 0:00:00\n",
            "   ━━━━━━━━━━━━━━━━━━━━━━━━━━━━━━━━━━━━━━━━ 140.2/140.2 kB 7.8 MB/s eta 0:00:00\n",
            "   ━━━━━━━━━━━━━━━━━━━━━━━━━━━━━━━━━━━━━━━━ 141.1/141.1 kB 7.2 MB/s eta 0:00:00\n",
            "   ━━━━━━━━━━━━━━━━━━━━━━━━━━━━━━━━━━━━━━━━ 990.6/990.6 kB 4.4 MB/s eta 0:00:00\n",
            "   ━━━━━━━━━━━━━━━━━━━━━━━━━━━━━━━━━━━━━━━━ 2.3/2.3 MB 11.7 MB/s eta 0:00:00\n",
            "   ━━━━━━━━━━━━━━━━━━━━━━━━━━━━━━━━━━━━━━━━ 49.2/49.2 kB 2.4 MB/s eta 0:00:00\n",
            "   ━━━━━━━━━━━━━━━━━━━━━━━━━━━━━━━━━━━━━━━━ 27.0/27.0 MB 22.7 MB/s eta 0:00:00\n"
          ]
        }
      ]
    },
    {
      "cell_type": "code",
      "source": [
        "# imports\n",
        "import numpy as np\n",
        "import pandas as pd\n",
        "from langchain.vectorstores import FAISS"
      ],
      "metadata": {
        "id": "LfpsC0EdepxW"
      },
      "execution_count": null,
      "outputs": []
    },
    {
      "cell_type": "markdown",
      "source": [
        "# Setting up your LLM"
      ],
      "metadata": {
        "id": "pDTAz2pkh-bM"
      }
    },
    {
      "cell_type": "code",
      "source": [
        "import os\n",
        "from google.colab import userdata # we stored our access token as a colab secret\n",
        "\n",
        "os.environ[\"HUGGINGFACEHUB_API_TOKEN\"] = userdata.get('LLM_TOKEN')"
      ],
      "metadata": {
        "id": "21rrBBu5h05G"
      },
      "execution_count": null,
      "outputs": []
    },
    {
      "cell_type": "code",
      "source": [
        "from langchain_huggingface import HuggingFaceEndpoint\n",
        "\n",
        "# This info's at the top of each HuggingFace model page\n",
        "hf_model = \"mistralai/Mistral-7B-Instruct-v0.3\"\n",
        "\n",
        "llm = HuggingFaceEndpoint(repo_id = hf_model)"
      ],
      "metadata": {
        "colab": {
          "base_uri": "https://localhost:8080/"
        },
        "id": "eGDEiA2IiBEZ",
        "outputId": "0515d31f-bd37-42de-8585-1d9c9a20e313"
      },
      "execution_count": null,
      "outputs": [
        {
          "output_type": "stream",
          "name": "stdout",
          "text": [
            "The token has not been saved to the git credentials helper. Pass `add_to_git_credential=True` in this function directly or `--add-to-git-credential` if using via `huggingface-cli` if you want to set the git credential as well.\n",
            "Token is valid (permission: read).\n",
            "Your token has been saved to /root/.cache/huggingface/token\n",
            "Login successful\n"
          ]
        }
      ]
    },
    {
      "cell_type": "markdown",
      "source": [
        "## Creating vectors with embeddings\n",
        "\n",
        "[Embeddings](https://python.langchain.com/docs/integrations/text_embedding) are a fancy way of saying we turn words into numbers that computers can understand. Each word gets its own unique code, based on its meaning and relationship to other words. The list of numbers produced is known as a vector. Vectors allow us to compare text and find chunks that contain similar information.\n",
        "\n",
        "Different embedding models encode words and meanings in different ways, and finding the right one can be tricky. We're using open-source models from HuggingFace, who even have a handy [leaderboard of embeddings](https://huggingface.co/spaces/mteb/leaderboard) on their website. Just browse the options and see which one speaks your language (literally!).\n",
        "> As we are doing a retrieval project, click on the `Retrieval` tab of the leaderboard to see the best embeddings for retrieval tasks."
      ],
      "metadata": {
        "id": "q916IN3ckjml"
      }
    },
    {
      "cell_type": "code",
      "source": [
        "from langchain_huggingface import HuggingFaceEmbeddings\n",
        "\n",
        "# embeddings\n",
        "embedding_model = \"sentence-transformers/all-MiniLM-l6-v2\"\n",
        "embeddings_folder = \"/content/\"\n",
        "\n",
        "embeddings = HuggingFaceEmbeddings(model_name=embedding_model,\n",
        "                                   cache_folder=embeddings_folder)"
      ],
      "metadata": {
        "colab": {
          "base_uri": "https://localhost:8080/",
          "height": 476,
          "referenced_widgets": [
            "2d482b66e55f41f3b7c3046bdbc2d12a",
            "8ec30c6ba15342e5a91a50e866bb4a79",
            "282d0a6b041b4c53864937c7b8a20f5f",
            "d504598c18474ce5ab49cd5703f11d40",
            "9fdc3a4372494c2b80706bb44e76500a",
            "36c8b921a56c402a942de6bce84bd594",
            "a081432aa17e440087e1a035000d026e",
            "7ed9c49773814e549e221654c47f96f4",
            "be9f303881624d06a8b909d85da4e075",
            "89593736c8dd413a95ba60711ad3e931",
            "14074d0138dd4b48902bbefb12d6ce0b",
            "9f6338c06e434176986c537cad86543d",
            "c2537bc7d81e4d7d86f56c077b1fdb9b",
            "52de81df869f491e83afa5628c065c90",
            "58b3f527464048528d8c3d5ba947e50e",
            "998425f95f0d4d8c8a9181754c9395b5",
            "baf412ba2f7e4721bf6f43f387b584d8",
            "849003ac106a4fe3aa24f77eab4a3abf",
            "be1b70f19b4c4ba7ba62ab3ebaa2a843",
            "0afe87c4de5e489f8630d99f65d90342",
            "d244df708945402c9c13241058fdd938",
            "3810c13c3dc54b70949eebc6fb9659ff",
            "77f6fc2a00f44b8ab22468b7af0f464f",
            "260e5e708764460b8ab334ec6db62376",
            "25f797f462a540529461c9e20b4ecd0a",
            "6c3f16307d934e599f5d9fd567a71121",
            "40a2d2f6e68d4132ae486cd6e1458ae1",
            "cffbba0683994f588bfa704bc1cf8ec0",
            "b537e46458cc4351a26bae3ad8ebacaa",
            "44b378a3f452471e8ae909f55cd3b6f8",
            "87edf5f5b4d84d86ad536182688d1cd5",
            "8e8195a877274fa1b62ecdafe89551f9",
            "ef928b5f7f75432d96b301fd15218523",
            "73403c5b781f49cf9eb3b1a536a2aa01",
            "902d6111a7c04139b5107f6c03173431",
            "6134da6c076a46ed841e728e3d6f1cbf",
            "f541578369b34161a6b247c7584964e0",
            "f3e79a23328248fdade789bf72911262",
            "c60d07bee5dc4fb4a06b7d0a5abeb9ca",
            "c74f9bb88b744c228de3ab9d554427d7",
            "ef5df3d297434a5883af2dfe99c3f6db",
            "8914fe56459e4e3eacc1de984e7f93f4",
            "5830609709724487aabd3eb16097806b",
            "9090d25d27af40e88a9b090ea1ce90f6",
            "8d9341b6155e49328b2c4ae1dcd18dbb",
            "c6c19622b87840da8d02b3deb76db028",
            "67427a158e3a48eea568a15272599452",
            "5e16cff2ad0c4359aeacb539315e2f40",
            "9413eb0bde2942a69aa5af22ae3cfefa",
            "354e5d4342824cbdbb8522a92215f6e3",
            "4ed34e7312fb485689ef30d9a2c8c18d",
            "0d22b4213289483b98df18137cdea04e",
            "d58b1081b9b3401781002dc0e7401133",
            "25d9233e26b34dfc89bdbb678fb25a13",
            "5a2c01d808dd45ac9b77b500efadb279",
            "a5ca0969c9474eed99407e6bc3db690a",
            "5d967c7ba3f54019a396c618e9afec09",
            "8168672e722249a19b7bebae13134079",
            "2ab39a25b6c84460b5830d25410ace8f",
            "94f1e1e2c33c4b5a9aa3535ed3af1143",
            "b9e7b80e048e444385e7cfdfd8906de8",
            "3416a26ca0b04638afd3fb67c08626c4",
            "5de1a41f958a4658858adcefff8a23c7",
            "a905535a5b5a4fb88f83ceb663b63104",
            "7e31f8d14db84b91895d5c1e9d5e39fd",
            "22ba7e0373204f178a0892dba06aa4dc",
            "c272c3fba5794f25b0e76e0b301e4726",
            "e93279a19d70442a800af7c4a5240393",
            "21240714f19b468dbed7778ce7d24e0a",
            "2c293aab7fd546da9845fa9e2a71ba3c",
            "f512c2507d984d31bcd741dcf63d54d7",
            "d9f9690546124dbaadc02309e4691bd1",
            "311e176bd81743f189f8d5666d070821",
            "c7b7a4a009454e05a19f8263187c2b12",
            "538336749592499c9b731f89fd882546",
            "56d34aa93a61436dac919ab5477c2dc9",
            "76655ad415b84ed1ad975b2983ccaa32",
            "b0ce3e7347054ece8d9a57e987041c5f",
            "97d3de57e39649c0b001c31b6eb9ba1d",
            "1da4424baf724fb38ca29c154edc2b66",
            "49725bb22c1c4330b8d208c26c2a4bc5",
            "391191c340044c10b6b1b8549363e79f",
            "95eb1f69724b48c7b7370c6061cef511",
            "2362be0e7dd5460fb1024620c11db77d",
            "5abc42cd4e1f4fb2b5b94cdd56c3fa78",
            "01a108da4faf48229eae320879917586",
            "3bfb3d066a8e42968c18c0d51791ac37",
            "21ae596f05044f77bb1bac589af81a8a",
            "c7bcfe7a11e94b58b1bfbc15f0832859",
            "f6da5b23896f4cdfb7e9a3e5bc1a44ec",
            "16c57aa38de64a45bab7cca97b447650",
            "a07758d1c1b84010afd9dbf780970983",
            "3aeed4f884b246d6a11c18d60279c055",
            "4ea6695780534b16a3f22b39d754f165",
            "6e79c44f03f3423e8306888d37086d2c",
            "c0f52dae30054f8a91d0053c1c2ffec4",
            "e4bc832bc6264d388bcc445d36534105",
            "583dbd77cf8c4f688dea138c29d3d1c0",
            "1a822bdbd6f045b5a9099c9571bc2e1e",
            "056453b73f424d50bbce4fd24f71afaf",
            "6370df3695ef452b98ca9613add5fee4",
            "0437a5c9ca6747ddbe874b782ebdb93f",
            "bbe1c0aef2d045118e1798dd3c067727",
            "6ccc625956f045b699d210941b87ab0d",
            "ac36945f0561428299a13b3c47da0a11",
            "8e71e37ae45d48c9898f94578ff83c27",
            "01de460e5abc43f482afe45290092caf",
            "32baa72064f04b3fbbf189dddd3c9ae5",
            "2a0fc8666a0142c3920584ef22785af2",
            "cf44ad337a5041beb7811bb3cbd92b03",
            "998aa4b93d314850a54c47fe55ad3e19",
            "07683c06a7184fb6a22afc9c5e6706f3",
            "b7a92fdab7554fbf8d4f24ad2d1e5a78",
            "f9f89193d4124f58b62e435570f4905b",
            "604162ad6b1f4073b142593b3f78258f",
            "2424f828413241b199ffcaab8299e946",
            "f5da74dcbc474e72b5d0643bae06dd6b",
            "13f9ea8526c34c4bae7ddb9713429af5",
            "a8dc36dd3b8842bf84ceeb15efd9fe5b",
            "2f7140664f724d4c9f7c93b88ea54881",
            "e71e7d21f4e140c29db3b7bd377b673b"
          ]
        },
        "id": "UsaejDfUkjWb",
        "outputId": "293fbbe6-03f8-4c31-8418-12293070103e"
      },
      "execution_count": null,
      "outputs": [
        {
          "output_type": "stream",
          "name": "stderr",
          "text": [
            "/usr/local/lib/python3.10/dist-packages/huggingface_hub/utils/_token.py:89: UserWarning: \n",
            "The secret `HF_TOKEN` does not exist in your Colab secrets.\n",
            "To authenticate with the Hugging Face Hub, create a token in your settings tab (https://huggingface.co/settings/tokens), set it as secret in your Google Colab and restart your session.\n",
            "You will be able to reuse this secret in all of your notebooks.\n",
            "Please note that authentication is recommended but still optional to access public models or datasets.\n",
            "  warnings.warn(\n"
          ]
        },
        {
          "output_type": "display_data",
          "data": {
            "text/plain": [
              "modules.json:   0%|          | 0.00/349 [00:00<?, ?B/s]"
            ],
            "application/vnd.jupyter.widget-view+json": {
              "version_major": 2,
              "version_minor": 0,
              "model_id": "2d482b66e55f41f3b7c3046bdbc2d12a"
            }
          },
          "metadata": {}
        },
        {
          "output_type": "display_data",
          "data": {
            "text/plain": [
              "config_sentence_transformers.json:   0%|          | 0.00/116 [00:00<?, ?B/s]"
            ],
            "application/vnd.jupyter.widget-view+json": {
              "version_major": 2,
              "version_minor": 0,
              "model_id": "9f6338c06e434176986c537cad86543d"
            }
          },
          "metadata": {}
        },
        {
          "output_type": "display_data",
          "data": {
            "text/plain": [
              "README.md:   0%|          | 0.00/10.7k [00:00<?, ?B/s]"
            ],
            "application/vnd.jupyter.widget-view+json": {
              "version_major": 2,
              "version_minor": 0,
              "model_id": "77f6fc2a00f44b8ab22468b7af0f464f"
            }
          },
          "metadata": {}
        },
        {
          "output_type": "display_data",
          "data": {
            "text/plain": [
              "sentence_bert_config.json:   0%|          | 0.00/53.0 [00:00<?, ?B/s]"
            ],
            "application/vnd.jupyter.widget-view+json": {
              "version_major": 2,
              "version_minor": 0,
              "model_id": "73403c5b781f49cf9eb3b1a536a2aa01"
            }
          },
          "metadata": {}
        },
        {
          "output_type": "display_data",
          "data": {
            "text/plain": [
              "config.json:   0%|          | 0.00/612 [00:00<?, ?B/s]"
            ],
            "application/vnd.jupyter.widget-view+json": {
              "version_major": 2,
              "version_minor": 0,
              "model_id": "8d9341b6155e49328b2c4ae1dcd18dbb"
            }
          },
          "metadata": {}
        },
        {
          "output_type": "display_data",
          "data": {
            "text/plain": [
              "model.safetensors:   0%|          | 0.00/90.9M [00:00<?, ?B/s]"
            ],
            "application/vnd.jupyter.widget-view+json": {
              "version_major": 2,
              "version_minor": 0,
              "model_id": "a5ca0969c9474eed99407e6bc3db690a"
            }
          },
          "metadata": {}
        },
        {
          "output_type": "display_data",
          "data": {
            "text/plain": [
              "tokenizer_config.json:   0%|          | 0.00/350 [00:00<?, ?B/s]"
            ],
            "application/vnd.jupyter.widget-view+json": {
              "version_major": 2,
              "version_minor": 0,
              "model_id": "c272c3fba5794f25b0e76e0b301e4726"
            }
          },
          "metadata": {}
        },
        {
          "output_type": "display_data",
          "data": {
            "text/plain": [
              "vocab.txt:   0%|          | 0.00/232k [00:00<?, ?B/s]"
            ],
            "application/vnd.jupyter.widget-view+json": {
              "version_major": 2,
              "version_minor": 0,
              "model_id": "b0ce3e7347054ece8d9a57e987041c5f"
            }
          },
          "metadata": {}
        },
        {
          "output_type": "display_data",
          "data": {
            "text/plain": [
              "tokenizer.json:   0%|          | 0.00/466k [00:00<?, ?B/s]"
            ],
            "application/vnd.jupyter.widget-view+json": {
              "version_major": 2,
              "version_minor": 0,
              "model_id": "c7bcfe7a11e94b58b1bfbc15f0832859"
            }
          },
          "metadata": {}
        },
        {
          "output_type": "display_data",
          "data": {
            "text/plain": [
              "special_tokens_map.json:   0%|          | 0.00/112 [00:00<?, ?B/s]"
            ],
            "application/vnd.jupyter.widget-view+json": {
              "version_major": 2,
              "version_minor": 0,
              "model_id": "056453b73f424d50bbce4fd24f71afaf"
            }
          },
          "metadata": {}
        },
        {
          "output_type": "display_data",
          "data": {
            "text/plain": [
              "1_Pooling/config.json:   0%|          | 0.00/190 [00:00<?, ?B/s]"
            ],
            "application/vnd.jupyter.widget-view+json": {
              "version_major": 2,
              "version_minor": 0,
              "model_id": "998aa4b93d314850a54c47fe55ad3e19"
            }
          },
          "metadata": {}
        }
      ]
    },
    {
      "cell_type": "markdown",
      "source": [
        "### Test Embedding"
      ],
      "metadata": {
        "id": "dyHjeTU5lnTf"
      }
    },
    {
      "cell_type": "code",
      "source": [
        "test_text = \"Why do data scientists make great comedians? They're always trying to make ANOVA pun\"\n",
        "query_result = embeddings.embed_query(test_text)\n",
        "query_result[:10]"
      ],
      "metadata": {
        "colab": {
          "base_uri": "https://localhost:8080/"
        },
        "collapsed": true,
        "id": "TbZysKu_lm8G",
        "outputId": "d714ce72-39a2-454c-87bf-86b35589f656"
      },
      "execution_count": null,
      "outputs": [
        {
          "output_type": "execute_result",
          "data": {
            "text/plain": [
              "[0.009409730322659016,\n",
              " -0.023806262761354446,\n",
              " -0.012127556838095188,\n",
              " 0.036123793572187424,\n",
              " -0.03382446989417076,\n",
              " -0.07974203675985336,\n",
              " 0.07004599273204803,\n",
              " 0.0746554508805275,\n",
              " 0.040141817182302475,\n",
              " 0.044190675020217896]"
            ]
          },
          "metadata": {},
          "execution_count": 8
        }
      ]
    },
    {
      "cell_type": "code",
      "source": [
        "characters = len(test_text)\n",
        "dimensions = len(query_result)\n",
        "print(f\"The {characters} character sentence was transformed into a {dimensions} dimension vector\")"
      ],
      "metadata": {
        "colab": {
          "base_uri": "https://localhost:8080/"
        },
        "id": "ptxJOhnmlmvT",
        "outputId": "e313efdd-800e-4ff5-de94-df8b486dde14"
      },
      "execution_count": null,
      "outputs": [
        {
          "output_type": "stream",
          "name": "stdout",
          "text": [
            "The 84 character sentence was transformed into a 384 dimension vector\n"
          ]
        }
      ]
    },
    {
      "cell_type": "markdown",
      "source": [
        "#Load FAISS Vector Store"
      ],
      "metadata": {
        "id": "XTstmUI3exaz"
      }
    },
    {
      "cell_type": "code",
      "source": [
        "# load Frankenstein vector_store\n",
        "path = '/content/drive/MyDrive/Final_Project/data/faiss_index_book2_frankenstein'\n",
        "book2_vs = FAISS.load_local(path, embeddings, allow_dangerous_deserialization=True)"
      ],
      "metadata": {
        "id": "iXEmRUeFexAx"
      },
      "execution_count": null,
      "outputs": []
    },
    {
      "cell_type": "code",
      "source": [
        "# load 1984 vector_store\n",
        "path = '/content/drive/MyDrive/Final_Project/data/faiss_index_book3_1984'\n",
        "book3_vs = FAISS.load_local(path, embeddings, allow_dangerous_deserialization=True)"
      ],
      "metadata": {
        "id": "IBAwMh_07aR3"
      },
      "execution_count": null,
      "outputs": []
    },
    {
      "cell_type": "markdown",
      "source": [
        "## Test the Vector Store"
      ],
      "metadata": {
        "id": "uQVjFCttmvI8"
      }
    },
    {
      "cell_type": "code",
      "source": [
        "results = book2_vs.similarity_search(\"What did Frankenstein create?\")"
      ],
      "metadata": {
        "id": "9U9-PsuFmVfh"
      },
      "execution_count": null,
      "outputs": []
    },
    {
      "cell_type": "code",
      "source": [
        "print(results[0].page_content)"
      ],
      "metadata": {
        "colab": {
          "base_uri": "https://localhost:8080/"
        },
        "id": "t3emB4MCmj7Q",
        "outputId": "4bb609fb-5856-4ad9-d692-10f4b717aecb"
      },
      "execution_count": null,
      "outputs": [
        {
          "output_type": "stream",
          "name": "stdout",
          "text": [
            "His tale is connected and told with an appearance of the simplest truth,\n",
            "yet I own to you that the letters of Felix and Safie, which he showed me,\n",
            "and the apparition of the monster seen from our ship, brought to me a\n",
            "greater conviction of the truth of his narrative than his asseverations,\n",
            "however earnest and connected. Such a monster has, then, really existence!\n",
            "I cannot doubt it, yet I am lost in surprise and admiration. Sometimes I\n",
            "endeavoured to gain from Frankenstein the particulars of his\n",
            "creature’s formation, but on this point he was impenetrable.\n",
            "\n",
            "“Are you mad, my friend?” said he. “Or whither does your\n",
            "senseless curiosity lead you? Would you also create for yourself and the\n",
            "world a demoniacal enemy? Peace, peace! Learn my miseries and do not seek\n",
            "to increase your own.”\n"
          ]
        }
      ]
    },
    {
      "cell_type": "code",
      "source": [
        "results = book3_vs.similarity_search(\"What are the three super states?\")"
      ],
      "metadata": {
        "id": "Zf09lQCk8DUz"
      },
      "execution_count": null,
      "outputs": []
    },
    {
      "cell_type": "code",
      "source": [
        "print(results[0].page_content)"
      ],
      "metadata": {
        "colab": {
          "base_uri": "https://localhost:8080/"
        },
        "id": "9z59mCT98Qg6",
        "outputId": "ae84de9f-1fe1-494a-833b-e011840f8cd8"
      },
      "execution_count": null,
      "outputs": [
        {
          "output_type": "stream",
          "name": "stdout",
          "text": [
            "The splitting up of the world into three great super-states was an event\n",
            "which could be and indeed was foreseen before the middle of the twentieth\n",
            "century. With the absorption of Europe by Russia and of the British Empire\n",
            "by the United States, two of the three existing powers, Eurasia and\n",
            "Oceania, were already effectively in being. The third, Eastasia, only\n",
            "emerged as a distinct unit after another decade of confused fighting. The\n",
            "frontiers between the three super-states are in some places arbitrary, and\n",
            "in others they fluctuate according to the fortunes of war, but in general\n",
            "they follow geographical lines. Eurasia comprises the whole of the northern\n",
            "part of the European and Asiatic land-mass, from Portugal to the Bering\n"
          ]
        }
      ]
    },
    {
      "cell_type": "markdown",
      "source": [
        "# Definition of similarity_search_with_relevance() function\n",
        "This function gives the relevance of the question w.r.t. the corpus."
      ],
      "metadata": {
        "id": "QADc2oPSSch_"
      }
    },
    {
      "cell_type": "code",
      "source": [
        "# return search results (list of documents), a pandas DataFrame containing the distances, nn_distances and quality numbers,\n",
        "# and the relevance of the query with respect to the vector_store.\n",
        "def similarity_search_with_relevance(query, vector_store, k=4, omit_first = False):\n",
        "  def get_quality(distance_0, distance_1):\n",
        "    #distance_0: distance of query_vector to the vector you want to calculate the quality for\n",
        "    #distance_1: distance of vector you want to calculate the quality for to its nearest neighbor\n",
        "    if distance_1 > distance_0: # this can happen when the query vector is not in the vector store and closer to its NN than the nearest neighbor of the NN\n",
        "      return 1.0\n",
        "    return distance_1/distance_0\n",
        "\n",
        "\n",
        "\n",
        "  nearest_neighbors = vector_store.similarity_search_with_score(query, k=k)\n",
        "  if omit_first:\n",
        "    nearest_neighbors = nearest_neighbors[1:]\n",
        "\n",
        "  #get doc_list\n",
        "  doc_list = [doc for doc, score in nearest_neighbors]\n",
        "\n",
        "  # turn nearest_neighbors into two lists; the first containing doc.page_content and the second containing distance\n",
        "  doc_page_content_list, distances = [doc.page_content for doc in doc_list], [np.sqrt(score) for doc, score in nearest_neighbors]\n",
        "\n",
        "  # for each content in doc_content_list, do a search and get its nearest neighbor score\n",
        "  nn_scores = [vector_store.similarity_search_with_score(page_content, k=2)[1][1] for page_content in doc_page_content_list]\n",
        "  nn_distances = np.sqrt(nn_scores)\n",
        "\n",
        "  # make a DataFrame containing page_content, distance, nn_distance\n",
        "  results_df = pd.DataFrame({'page_content': doc_page_content_list, 'distance':distances, 'nn_distance':nn_distances})\n",
        "\n",
        "  # for each row in results_df, calculate the quality\n",
        "  qualities = [get_quality(row.distance, row.nn_distance) for index, row in results_df.iterrows()]\n",
        "\n",
        "  # add column with qualities to results_df\n",
        "  results_df['quality'] = qualities\n",
        "\n",
        "  query_relevance = results_df.quality.mean()\n",
        "\n",
        "  return {'docs':doc_list, 'results':results_df, 'relevance':query_relevance}"
      ],
      "metadata": {
        "id": "smQFe-gzWetS"
      },
      "execution_count": null,
      "outputs": []
    },
    {
      "cell_type": "markdown",
      "source": [
        "# Definition of similarity_search_with_weighted_relevance\n",
        "This function calculates a weighted relevance number by multiplying the quality-ratio of each nearest neighbor with its relevance, where relevance is returned by the function similarity_search_with_relevance().   "
      ],
      "metadata": {
        "id": "HfyTOXRFTQ2F"
      }
    },
    {
      "cell_type": "code",
      "source": [
        "def similarity_search_with_weighted_relevance(query, vector_store, k=4):\n",
        "  search_results = similarity_search_with_relevance(query, vector_store, k=k, omit_first = False)\n",
        "  # for each nearest neighbor of the query determine its relevance (not weighted relevance!!!)\n",
        "  relevances = [similarity_search_with_relevance(doc.page_content, vector_store, k=k+1, omit_first = True)['relevance'] for doc in search_results['docs']]\n",
        "  qualities = search_results['results']['quality']\n",
        "  weighted_qualities = relevances*qualities\n",
        "  weighted_relevance = weighted_qualities.mean()\n",
        "  return {'docs':search_results['docs'], 'results':search_results['results'], 'weighted_relevance':weighted_relevance}"
      ],
      "metadata": {
        "id": "hkVB0xmwTazc"
      },
      "execution_count": null,
      "outputs": []
    },
    {
      "cell_type": "code",
      "source": [
        "t = pd.Series([1,2,3,4])\n",
        "t.mean()"
      ],
      "metadata": {
        "colab": {
          "base_uri": "https://localhost:8080/"
        },
        "id": "2lWEqNz8ayKF",
        "outputId": "b7a4b2b8-a072-4ac4-be4a-e611e999d2b0"
      },
      "execution_count": null,
      "outputs": [
        {
          "output_type": "execute_result",
          "data": {
            "text/plain": [
              "2.5"
            ]
          },
          "metadata": {},
          "execution_count": 111
        }
      ]
    },
    {
      "cell_type": "markdown",
      "source": [
        "# Test Relevance and Weighted Relevance function with different Queries"
      ],
      "metadata": {
        "id": "WRAOjPfhP7kX"
      }
    },
    {
      "cell_type": "markdown",
      "source": [
        "# Questions"
      ],
      "metadata": {
        "id": "qG71y1g1LfIe"
      }
    },
    {
      "cell_type": "code",
      "source": [
        "question1 = 'What did Frankenstein create?'\n",
        "question2 = 'Who is Henry Clerval?'\n",
        "question3 = 'What are the three super states?'\n",
        "question4 = \"What happens in room 101?\"\n",
        "question5 = 'What courses does WBS Coding School offer?'\n",
        "question6 = 'Who is Big Brother?'"
      ],
      "metadata": {
        "id": "oSxMrAc1fmb-"
      },
      "execution_count": null,
      "outputs": []
    },
    {
      "cell_type": "markdown",
      "source": [
        "#Question 1"
      ],
      "metadata": {
        "id": "0VNDrriOB5nP"
      }
    },
    {
      "cell_type": "code",
      "source": [
        "question = question1\n",
        "print('corpus: Frankenstein\\n')\n",
        "print('Question: '+question+'\\n')\n",
        "results  = similarity_search_with_relevance(question, book2_vs)\n",
        "weighted_results  = similarity_search_with_weighted_relevance(question, book2_vs)\n",
        "relevance = results['relevance']\n",
        "weighted_relevance = weighted_results['weighted_relevance']\n",
        "print(f'relevance = {relevance}')\n",
        "print(f'weighted relevance = {weighted_relevance}')\n",
        "print()\n",
        "print(results['results'].page_content[0])"
      ],
      "metadata": {
        "colab": {
          "base_uri": "https://localhost:8080/"
        },
        "collapsed": true,
        "id": "fI5hrPz1oxc5",
        "outputId": "98042ada-20ea-46dc-e3fa-2f0fe2351d86"
      },
      "execution_count": null,
      "outputs": [
        {
          "output_type": "stream",
          "name": "stdout",
          "text": [
            "corpus: Frankenstein\n",
            "\n",
            "Question: What did Frankenstein create?\n",
            "\n",
            "relevance = 0.880194286507724\n",
            "weighted relevance = 0.7346023088130982\n",
            "\n",
            "His tale is connected and told with an appearance of the simplest truth,\n",
            "yet I own to you that the letters of Felix and Safie, which he showed me,\n",
            "and the apparition of the monster seen from our ship, brought to me a\n",
            "greater conviction of the truth of his narrative than his asseverations,\n",
            "however earnest and connected. Such a monster has, then, really existence!\n",
            "I cannot doubt it, yet I am lost in surprise and admiration. Sometimes I\n",
            "endeavoured to gain from Frankenstein the particulars of his\n",
            "creature’s formation, but on this point he was impenetrable.\n",
            "\n",
            "“Are you mad, my friend?” said he. “Or whither does your\n",
            "senseless curiosity lead you? Would you also create for yourself and the\n",
            "world a demoniacal enemy? Peace, peace! Learn my miseries and do not seek\n",
            "to increase your own.”\n"
          ]
        }
      ]
    },
    {
      "cell_type": "code",
      "source": [
        "question = question1\n",
        "print('corpus: 1984\\n')\n",
        "print('Question: '+question+'\\n')\n",
        "results  = similarity_search_with_relevance(question, book3_vs)\n",
        "weighted_results  = similarity_search_with_weighted_relevance(question, book3_vs)\n",
        "relevance = results['relevance']\n",
        "weighted_relevance = weighted_results['weighted_relevance']\n",
        "print(f'relevance = {relevance}')\n",
        "print(f'weighted relevance = {weighted_relevance}')\n",
        "print()\n",
        "print(results['results'].page_content[0])"
      ],
      "metadata": {
        "colab": {
          "base_uri": "https://localhost:8080/"
        },
        "id": "T5N2lCAnBFVl",
        "outputId": "5836d277-a381-49a1-aa73-b4393f71142a"
      },
      "execution_count": null,
      "outputs": [
        {
          "output_type": "stream",
          "name": "stdout",
          "text": [
            "corpus: 1984\n",
            "\n",
            "Question: What did Frankenstein create?\n",
            "\n",
            "relevance = 0.7445610047959332\n",
            "weighted relevance = 0.6337192169267537\n",
            "\n",
            "darkness. With a deadly effort, like wrenching a piece out of his own\n",
            "brain, he could even have dragged the thing into the open. He always woke\n",
            "up without discovering what it was: but somehow it was connected with what\n",
            "Julia had been saying when he cut her short.\n"
          ]
        }
      ]
    },
    {
      "cell_type": "markdown",
      "source": [
        "# Question 2"
      ],
      "metadata": {
        "id": "DBGvDTldB9Dl"
      }
    },
    {
      "cell_type": "code",
      "source": [
        "question = question2\n",
        "print('corpus: Frankenstein\\n')\n",
        "print('Question: '+question+'\\n')\n",
        "results  = similarity_search_with_relevance(question, book2_vs)\n",
        "weighted_results  = similarity_search_with_weighted_relevance(question, book2_vs)\n",
        "relevance = results['relevance']\n",
        "weighted_relevance = weighted_results['weighted_relevance']\n",
        "print(f'relevance = {relevance}')\n",
        "print(f'weighted relevance = {weighted_relevance}')\n",
        "print()\n",
        "print(results['results'].page_content[0])"
      ],
      "metadata": {
        "colab": {
          "base_uri": "https://localhost:8080/"
        },
        "id": "VkG7X5hnCRxZ",
        "outputId": "0ca9093b-d56a-43b5-8ee3-9c49e2961cf9"
      },
      "execution_count": null,
      "outputs": [
        {
          "output_type": "stream",
          "name": "stdout",
          "text": [
            "corpus: Frankenstein\n",
            "\n",
            "Question: Who is Henry Clerval?\n",
            "\n",
            "relevance = 0.848428998525216\n",
            "weighted relevance = 0.7718371757048416\n",
            "\n",
            "On the birth of a second son, my junior by seven years, my parents gave\n",
            "up entirely their wandering life and fixed themselves in their native\n",
            "country. We possessed a house in Geneva, and a _campagne_ on Belrive,\n",
            "the eastern shore of the lake, at the distance of rather more than a\n",
            "league from the city. We resided principally in the latter, and the\n",
            "lives of my parents were passed in considerable seclusion. It was my\n",
            "temper to avoid a crowd and to attach myself fervently to a few. I was\n",
            "indifferent, therefore, to my school-fellows in general; but I united\n",
            "myself in the bonds of the closest friendship to one among them. Henry\n",
            "Clerval was the son of a merchant of Geneva. He was a boy of singular\n",
            "talent and fancy. He loved enterprise, hardship, and even danger for\n"
          ]
        }
      ]
    },
    {
      "cell_type": "code",
      "source": [
        "question = question2\n",
        "print('corpus: 1984\\n')\n",
        "print('Question: '+question+'\\n')\n",
        "results  = similarity_search_with_relevance(question, book3_vs)\n",
        "weighted_results  = similarity_search_with_weighted_relevance(question, book3_vs)\n",
        "relevance = results['relevance']\n",
        "weighted_relevance = weighted_results['weighted_relevance']\n",
        "print(f'relevance = {relevance}')\n",
        "print(f'weighted relevance = {weighted_relevance}')\n",
        "print()\n",
        "print(results['results'].page_content[0])"
      ],
      "metadata": {
        "colab": {
          "base_uri": "https://localhost:8080/"
        },
        "id": "WZoSjPJaCRkG",
        "outputId": "3dfb7f19-595c-47c4-9f7f-4dd33a07c506"
      },
      "execution_count": null,
      "outputs": [
        {
          "output_type": "stream",
          "name": "stdout",
          "text": [
            "corpus: 1984\n",
            "\n",
            "Question: Who is Henry Clerval?\n",
            "\n",
            "relevance = 0.7156996623362984\n",
            "weighted relevance = 0.5893235825785677\n",
            "\n",
            "He was rolling down a mighty corridor, a kilometre wide, full of glorious,\n",
            "golden light, roaring with laughter and shouting out confessions at the\n",
            "top of his voice. He was confessing everything, even the things he had\n",
            "succeeded in holding back under the torture. He was relating the entire\n",
            "history of his life to an audience who knew it already. With him were the\n",
            "guards, the other questioners, the men in white coats, O'Brien, Julia,\n",
            "Mr Charrington, all rolling down the corridor together and shouting with\n",
            "laughter. Some dreadful thing which had lain embedded in the future had\n",
            "somehow been skipped over and had not happened. Everything was all right,\n",
            "there was no more pain, the last detail of his life was laid bare,\n",
            "understood, forgiven.\n"
          ]
        }
      ]
    },
    {
      "cell_type": "markdown",
      "source": [
        "# Question 3"
      ],
      "metadata": {
        "id": "a7kNdPx2CHo5"
      }
    },
    {
      "cell_type": "code",
      "source": [
        "question = question3\n",
        "print('corpus: Frankenstein\\n')\n",
        "print('Question: '+question+'\\n')\n",
        "results  = similarity_search_with_relevance(question, book2_vs)\n",
        "weighted_results  = similarity_search_with_weighted_relevance(question, book2_vs)\n",
        "relevance = results['relevance']\n",
        "weighted_relevance = weighted_results['weighted_relevance']\n",
        "print(f'relevance = {relevance}')\n",
        "print(f'weighted relevance = {weighted_relevance}')\n",
        "print()\n",
        "print(results['results'].page_content[0])"
      ],
      "metadata": {
        "colab": {
          "base_uri": "https://localhost:8080/"
        },
        "id": "JS9SsCYTCSe7",
        "outputId": "12c32909-cbc4-4cec-fbda-8763bd77f710"
      },
      "execution_count": null,
      "outputs": [
        {
          "output_type": "stream",
          "name": "stdout",
          "text": [
            "corpus: Frankenstein\n",
            "\n",
            "Question: What are the three super states?\n",
            "\n",
            "relevance = 0.6788363948666276\n",
            "weighted relevance = 0.5924728964501875\n",
            "\n",
            "visible, its broad disk just skirting the horizon and diffusing a\n",
            "perpetual splendour. There—for with your leave, my sister, I will put\n",
            "some trust in preceding navigators—there snow and frost are banished;\n",
            "and, sailing over a calm sea, we may be wafted to a land surpassing in\n",
            "wonders and in beauty every region hitherto discovered on the habitable\n",
            "globe. Its productions and features may be without example, as the\n",
            "phenomena of the heavenly bodies undoubtedly are in those undiscovered\n",
            "solitudes. What may not be expected in a country of eternal light? I\n",
            "may there discover the wondrous power which attracts the needle and may\n",
            "regulate a thousand celestial observations that require only this\n",
            "voyage to render their seeming eccentricities consistent for ever. I\n"
          ]
        }
      ]
    },
    {
      "cell_type": "code",
      "source": [
        "question = question3\n",
        "print('corpus: 1984\\n')\n",
        "print('Question: '+question+'\\n')\n",
        "results  = similarity_search_with_relevance(question, book3_vs)\n",
        "weighted_results  = similarity_search_with_weighted_relevance(question, book3_vs)\n",
        "relevance = results['relevance']\n",
        "weighted_relevance = weighted_results['weighted_relevance']\n",
        "print(f'relevance = {relevance}')\n",
        "print(f'weighted relevance = {weighted_relevance}')\n",
        "print()\n",
        "print(results['results'].page_content[0])"
      ],
      "metadata": {
        "colab": {
          "base_uri": "https://localhost:8080/"
        },
        "id": "iJmLlV8lCSTc",
        "outputId": "8e608088-7477-4741-a7d6-e63deb6dede0"
      },
      "execution_count": null,
      "outputs": [
        {
          "output_type": "stream",
          "name": "stdout",
          "text": [
            "corpus: 1984\n",
            "\n",
            "Question: What are the three super states?\n",
            "\n",
            "relevance = 0.8693867664985613\n",
            "weighted relevance = 0.7765255911720315\n",
            "\n",
            "The splitting up of the world into three great super-states was an event\n",
            "which could be and indeed was foreseen before the middle of the twentieth\n",
            "century. With the absorption of Europe by Russia and of the British Empire\n",
            "by the United States, two of the three existing powers, Eurasia and\n",
            "Oceania, were already effectively in being. The third, Eastasia, only\n",
            "emerged as a distinct unit after another decade of confused fighting. The\n",
            "frontiers between the three super-states are in some places arbitrary, and\n",
            "in others they fluctuate according to the fortunes of war, but in general\n",
            "they follow geographical lines. Eurasia comprises the whole of the northern\n",
            "part of the European and Asiatic land-mass, from Portugal to the Bering\n"
          ]
        }
      ]
    },
    {
      "cell_type": "markdown",
      "source": [
        "# Question 4"
      ],
      "metadata": {
        "id": "q8eieeCNCI0L"
      }
    },
    {
      "cell_type": "code",
      "source": [
        "question = question4\n",
        "print('corpus: Frankenstein\\n')\n",
        "print('Question: '+question+'\\n')\n",
        "results  = similarity_search_with_relevance(question, book2_vs)\n",
        "weighted_results  = similarity_search_with_weighted_relevance(question, book2_vs)\n",
        "relevance = results['relevance']\n",
        "weighted_relevance = weighted_results['weighted_relevance']\n",
        "print(f'relevance = {relevance}')\n",
        "print(f'weighted relevance = {weighted_relevance}')\n",
        "print()\n",
        "print(results['results'].page_content[0])"
      ],
      "metadata": {
        "colab": {
          "base_uri": "https://localhost:8080/"
        },
        "id": "UR07STOsCUOV",
        "outputId": "204a4003-401a-4098-9a31-e727304bdafc"
      },
      "execution_count": null,
      "outputs": [
        {
          "output_type": "stream",
          "name": "stdout",
          "text": [
            "corpus: Frankenstein\n",
            "\n",
            "Question: What happens in room 101?\n",
            "\n",
            "relevance = 0.6094389414363691\n",
            "weighted relevance = 0.5410778311076314\n",
            "\n",
            "Chapter 11\n"
          ]
        }
      ]
    },
    {
      "cell_type": "code",
      "source": [
        "question = question4\n",
        "print('corpus: 1984\\n')\n",
        "print('Question: '+question+'\\n')\n",
        "results  = similarity_search_with_relevance(question, book3_vs)\n",
        "weighted_results  = similarity_search_with_weighted_relevance(question, book3_vs)\n",
        "relevance = results['relevance']\n",
        "weighted_relevance = weighted_results['weighted_relevance']\n",
        "print(f'relevance = {relevance}')\n",
        "print(f'weighted relevance = {weighted_relevance}')\n",
        "print()\n",
        "print(results['results'].page_content[0])"
      ],
      "metadata": {
        "colab": {
          "base_uri": "https://localhost:8080/"
        },
        "id": "f4nC1IgnCUJ7",
        "outputId": "a46c06c5-93fe-4503-bb54-dbe30dcc6a51"
      },
      "execution_count": null,
      "outputs": [
        {
          "output_type": "stream",
          "name": "stdout",
          "text": [
            "corpus: 1984\n",
            "\n",
            "Question: What happens in room 101?\n",
            "\n",
            "relevance = 0.7827691972078202\n",
            "weighted relevance = 0.6757323703170669\n",
            "\n",
            "It was bigger than most of the cells he had been in. But he hardly noticed\n",
            "his surroundings. All he noticed was that there were two small tables\n",
            "straight in front of him, each covered with green baize. One was only a\n",
            "metre or two from him, the other was further away, near the door. He was\n",
            "strapped upright in a chair, so tightly that he could move nothing, not\n",
            "even his head. A sort of pad gripped his head from behind, forcing him to\n",
            "look straight in front of him.\n",
            "\n",
            "For a moment he was alone, then the door opened and O'Brien came in.\n",
            "\n",
            "'You asked me once,' said O'Brien, 'what was in Room 101. I told you that\n",
            "you knew the answer already. Everyone knows it. The thing that is in\n",
            "Room 101 is the worst thing in the world.'\n"
          ]
        }
      ]
    },
    {
      "cell_type": "markdown",
      "source": [
        "# Question 5"
      ],
      "metadata": {
        "id": "01i2eKKUCJSb"
      }
    },
    {
      "cell_type": "code",
      "source": [
        "question = question5\n",
        "print('corpus: Frankenstein\\n')\n",
        "print('Question: '+question+'\\n')\n",
        "results  = similarity_search_with_relevance(question, book2_vs)\n",
        "weighted_results  = similarity_search_with_weighted_relevance(question, book2_vs)\n",
        "relevance = results['relevance']\n",
        "weighted_relevance = weighted_results['weighted_relevance']\n",
        "print(f'relevance = {relevance}')\n",
        "print(f'weighted relevance = {weighted_relevance}')\n",
        "print()\n",
        "print(results['results'].page_content[0])"
      ],
      "metadata": {
        "colab": {
          "base_uri": "https://localhost:8080/"
        },
        "id": "WEp5LYHQCVAD",
        "outputId": "b0a4e635-6165-4e34-e207-5266940ef00f"
      },
      "execution_count": null,
      "outputs": [
        {
          "output_type": "stream",
          "name": "stdout",
          "text": [
            "corpus: Frankenstein\n",
            "\n",
            "Question: What courses does WBS Coding School offer?\n",
            "\n",
            "relevance = 0.5502429631925726\n",
            "weighted relevance = 0.4692618825137779\n",
            "\n",
            "START: FULL LICENSE\n",
            "\n",
            "THE FULL PROJECT GUTENBERG LICENSE\n",
            "\n",
            "PLEASE READ THIS BEFORE YOU DISTRIBUTE OR USE THIS WORK\n",
            "\n",
            "To protect the Project Gutenberg™ mission of promoting the free\n",
            "distribution of electronic works, by using or distributing this work\n",
            "(or any other work associated in any way with the phrase “Project\n",
            "Gutenberg”), you agree to comply with all the terms of the Full\n",
            "Project Gutenberg™ License available with this file or online at\n",
            "www.gutenberg.org/license.\n",
            "\n",
            "Section 1. General Terms of Use and Redistributing Project Gutenberg™\n",
            "electronic works\n"
          ]
        }
      ]
    },
    {
      "cell_type": "code",
      "source": [
        "question = question5\n",
        "print('corpus: 1984\\n')\n",
        "print('Question: '+question+'\\n')\n",
        "results  = similarity_search_with_relevance(question, book3_vs)\n",
        "weighted_results  = similarity_search_with_weighted_relevance(question, book3_vs)\n",
        "relevance = results['relevance']\n",
        "weighted_relevance = weighted_results['weighted_relevance']\n",
        "print(f'relevance = {relevance}')\n",
        "print(f'weighted relevance = {weighted_relevance}')\n",
        "print()\n",
        "print(results['results'].page_content[0])"
      ],
      "metadata": {
        "colab": {
          "base_uri": "https://localhost:8080/"
        },
        "id": "gjnRzH5vCU8u",
        "outputId": "b04bbefd-4a49-490f-f4cd-7e570b762874"
      },
      "execution_count": null,
      "outputs": [
        {
          "output_type": "stream",
          "name": "stdout",
          "text": [
            "corpus: 1984\n",
            "\n",
            "Question: What courses does WBS Coding School offer?\n",
            "\n",
            "relevance = 0.641932704081316\n",
            "weighted relevance = 0.5091851013536812\n",
            "\n",
            "THE END\n",
            "\n",
            "\n",
            "\n",
            "\n",
            "Project Gutenberg Australia\n"
          ]
        }
      ]
    },
    {
      "cell_type": "markdown",
      "source": [
        "# Question 6"
      ],
      "metadata": {
        "id": "8ONng5NFQw07"
      }
    },
    {
      "cell_type": "code",
      "source": [
        "question = question6\n",
        "print('corpus: Frankenstein\\n')\n",
        "print('Question: '+question+'\\n')\n",
        "results  = similarity_search_with_relevance(question, book2_vs)\n",
        "weighted_results  = similarity_search_with_weighted_relevance(question, book2_vs)\n",
        "relevance = results['relevance']\n",
        "weighted_relevance = weighted_results['weighted_relevance']\n",
        "print(f'relevance = {relevance}')\n",
        "print(f'weighted relevance = {weighted_relevance}')\n",
        "print()\n",
        "print(results['results'].page_content[0])"
      ],
      "metadata": {
        "colab": {
          "base_uri": "https://localhost:8080/"
        },
        "id": "qpAm2pjdQwlL",
        "outputId": "a40de66a-38af-491e-fcf4-711d2e829d12"
      },
      "execution_count": null,
      "outputs": [
        {
          "output_type": "stream",
          "name": "stdout",
          "text": [
            "corpus: Frankenstein\n",
            "\n",
            "Question: Who is Big Brother?\n",
            "\n",
            "relevance = 0.654053202050111\n",
            "weighted relevance = 0.5529374540061427\n",
            "\n",
            "“I do not know what you mean,” replied my brother, in accents of\n",
            "wonder, “but to us the discovery we have made completes our misery. No\n",
            "one would believe it at first; and even now Elizabeth will not be\n",
            "convinced, notwithstanding all the evidence. Indeed, who would credit\n",
            "that Justine Moritz, who was so amiable, and fond of all the family,\n",
            "could suddenly become so capable of so frightful, so appalling a crime?”\n",
            "\n",
            "“Justine Moritz! Poor, poor girl, is she the accused? But it is\n",
            "wrongfully; every one knows that; no one believes it, surely, Ernest?”\n"
          ]
        }
      ]
    },
    {
      "cell_type": "code",
      "source": [
        "question = question6\n",
        "print('corpus: 1984\\n')\n",
        "print('Question: '+question+'\\n')\n",
        "results  = similarity_search_with_relevance(question, book3_vs)\n",
        "weighted_results  = similarity_search_with_weighted_relevance(question, book3_vs)\n",
        "relevance = results['relevance']\n",
        "weighted_relevance = weighted_results['weighted_relevance']\n",
        "print(f'relevance = {relevance}')\n",
        "print(f'weighted relevance = {weighted_relevance}')\n",
        "print()\n",
        "print(results['results'].page_content[0])"
      ],
      "metadata": {
        "colab": {
          "base_uri": "https://localhost:8080/"
        },
        "id": "d-jOCk_fQ3TR",
        "outputId": "32de95a3-fd97-4b89-ecae-776f4854b060"
      },
      "execution_count": null,
      "outputs": [
        {
          "output_type": "stream",
          "name": "stdout",
          "text": [
            "corpus: 1984\n",
            "\n",
            "Question: Who is Big Brother?\n",
            "\n",
            "relevance = 0.8144148511811904\n",
            "weighted relevance = 0.6954839615655598\n",
            "\n",
            "who was thirty-nine and had a varicose ulcer above his right ankle, went\n",
            "slowly, resting several times on the way. On each landing, opposite the\n",
            "lift-shaft, the poster with the enormous face gazed from the wall. It was\n",
            "one of those pictures which are so contrived that the eyes follow you about\n",
            "when you move. BIG BROTHER IS WATCHING YOU, the caption beneath it ran.\n"
          ]
        }
      ]
    }
  ]
}